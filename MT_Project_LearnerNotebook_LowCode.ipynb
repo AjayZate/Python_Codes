{
 "cells": [
  {
   "cell_type": "markdown",
   "metadata": {
    "id": "9EaJ8AGwpM-2"
   },
   "source": [
    "## Problem Statement"
   ]
  },
  {
   "cell_type": "markdown",
   "metadata": {
    "id": "x3-QehJxbp0t"
   },
   "source": [
    "### Business Context\n",
    "\n",
    "Renewable energy sources play an increasingly important role in the global energy mix, as the effort to reduce the environmental impact of energy production increases.\n",
    "\n",
    "Out of all the renewable energy alternatives, wind energy is one of the most developed technologies worldwide. The U.S Department of Energy has put together a guide to achieving operational efficiency using predictive maintenance practices.\n",
    "\n",
    "Predictive maintenance uses sensor information and analysis methods to measure and predict degradation and future component capability. The idea behind predictive maintenance is that failure patterns are predictable and if component failure can be predicted accurately and the component is replaced before it fails, the costs of operation and maintenance will be much lower.\n",
    "\n",
    "The sensors fitted across different machines involved in the process of energy generation collect data related to various environmental factors (temperature, humidity, wind speed, etc.) and additional features related to various parts of the wind turbine (gearbox, tower, blades, break, etc.). \n",
    "\n",
    "\n",
    "\n",
    "## Objective\n",
    "“ReneWind” is a company working on improving the machinery/processes involved in the production of wind energy using machine learning and has collected data of generator failure of wind turbines using sensors. They have shared a ciphered version of the data, as the data collected through sensors is confidential (the type of data collected varies with companies). Data has 40 predictors, 20000 observations in the training set and 5000 in the test set.\n",
    "\n",
    "The objective is to build various classification models, tune them, and find the best one that will help identify failures so that the generators could be repaired before failing/breaking to reduce the overall maintenance cost. \n",
    "The nature of predictions made by the classification model will translate as follows:\n",
    "\n",
    "- True positives (TP) are failures correctly predicted by the model. These will result in repairing costs.\n",
    "- False negatives (FN) are real failures where there is no detection by the model. These will result in replacement costs.\n",
    "- False positives (FP) are detections where there is no failure. These will result in inspection costs.\n",
    "\n",
    "It is given that the cost of repairing a generator is much less than the cost of replacing it, and the cost of inspection is less than the cost of repair.\n",
    "\n",
    "“1” in the target variables should be considered as “failure” and “0” represents “No failure”.\n",
    "\n",
    "## Data Description\n",
    "- The data provided is a transformed version of original data which was collected using sensors.\n",
    "- Train.csv - To be used for training and tuning of models. \n",
    "- Test.csv - To be used only for testing the performance of the final best model.\n",
    "- Both the datasets consist of 40 predictor variables and 1 target variable"
   ]
  },
  {
   "cell_type": "markdown",
   "metadata": {
    "id": "NbHOIdlwcrqR"
   },
   "source": [
    "### **Please read the instructions carefully before starting the project.** \n",
    "This is a commented Jupyter IPython Notebook file in which all the instructions and tasks to be performed are mentioned. \n",
    "* Blanks '_______' are provided in the notebook that \n",
    "needs to be filled with an appropriate code to get the correct result. With every '_______' blank, there is a comment that briefly describes what needs to be filled in the blank space. \n",
    "* Identify the task to be performed correctly, and only then proceed to write the required code.\n",
    "* Fill the code wherever asked by the commented lines like \"# write your code here\" or \"# complete the code\". Running incomplete code may throw error.\n",
    "* Please run the codes in a sequential manner from the beginning to avoid any unnecessary errors.\n",
    "* Add the results/observations (wherever mentioned) derived from the analysis in the presentation and submit the same.\n"
   ]
  },
  {
   "cell_type": "markdown",
   "metadata": {
    "id": "v_-uuGqH-qTt"
   },
   "source": [
    "## Importing necessary libraries"
   ]
  },
  {
   "cell_type": "code",
   "execution_count": 1,
   "metadata": {
    "id": "dbiVVX6hbp0v"
   },
   "outputs": [
    {
     "ename": "ImportError",
     "evalue": "cannot import name 'axes' from 'matplotlib' (C:\\Users\\2205419\\Anaconda3\\lib\\site-packages\\matplotlib\\__init__.py)",
     "output_type": "error",
     "traceback": [
      "\u001b[1;31m---------------------------------------------------------------------------\u001b[0m",
      "\u001b[1;31mImportError\u001b[0m                               Traceback (most recent call last)",
      "Input \u001b[1;32mIn [1]\u001b[0m, in \u001b[0;36m<cell line: 7>\u001b[1;34m()\u001b[0m\n\u001b[0;32m      3\u001b[0m \u001b[38;5;28;01mimport\u001b[39;00m \u001b[38;5;21;01mnumpy\u001b[39;00m \u001b[38;5;28;01mas\u001b[39;00m \u001b[38;5;21;01mnp\u001b[39;00m\n\u001b[0;32m      5\u001b[0m \u001b[38;5;66;03m# Libaries to help with data visualization\u001b[39;00m\n\u001b[0;32m      6\u001b[0m \u001b[38;5;66;03m#import matplotlib.pyplot as plt\u001b[39;00m\n\u001b[1;32m----> 7\u001b[0m \u001b[38;5;28;01mimport\u001b[39;00m \u001b[38;5;21;01mseaborn\u001b[39;00m \u001b[38;5;28;01mas\u001b[39;00m \u001b[38;5;21;01msns\u001b[39;00m\n\u001b[0;32m      9\u001b[0m \u001b[38;5;66;03m# To tune model, get different metric scores, and split data\u001b[39;00m\n\u001b[0;32m     10\u001b[0m \u001b[38;5;28;01mfrom\u001b[39;00m \u001b[38;5;21;01msklearn\u001b[39;00m\u001b[38;5;21;01m.\u001b[39;00m\u001b[38;5;21;01mmetrics\u001b[39;00m \u001b[38;5;28;01mimport\u001b[39;00m (\n\u001b[0;32m     11\u001b[0m     f1_score,\n\u001b[0;32m     12\u001b[0m     accuracy_score,\n\u001b[1;32m   (...)\u001b[0m\n\u001b[0;32m     17\u001b[0m     ConfusionMatrixDisplay,\n\u001b[0;32m     18\u001b[0m )\n",
      "File \u001b[1;32m~\\Anaconda3\\lib\\site-packages\\seaborn\\__init__.py:2\u001b[0m, in \u001b[0;36m<module>\u001b[1;34m\u001b[0m\n\u001b[0;32m      1\u001b[0m \u001b[38;5;66;03m# Import seaborn objects\u001b[39;00m\n\u001b[1;32m----> 2\u001b[0m \u001b[38;5;28;01mfrom\u001b[39;00m \u001b[38;5;21;01m.\u001b[39;00m\u001b[38;5;21;01mrcmod\u001b[39;00m \u001b[38;5;28;01mimport\u001b[39;00m \u001b[38;5;241m*\u001b[39m  \u001b[38;5;66;03m# noqa: F401,F403\u001b[39;00m\n\u001b[0;32m      3\u001b[0m \u001b[38;5;28;01mfrom\u001b[39;00m \u001b[38;5;21;01m.\u001b[39;00m\u001b[38;5;21;01mutils\u001b[39;00m \u001b[38;5;28;01mimport\u001b[39;00m \u001b[38;5;241m*\u001b[39m  \u001b[38;5;66;03m# noqa: F401,F403\u001b[39;00m\n\u001b[0;32m      4\u001b[0m \u001b[38;5;28;01mfrom\u001b[39;00m \u001b[38;5;21;01m.\u001b[39;00m\u001b[38;5;21;01mpalettes\u001b[39;00m \u001b[38;5;28;01mimport\u001b[39;00m \u001b[38;5;241m*\u001b[39m  \u001b[38;5;66;03m# noqa: F401,F403\u001b[39;00m\n",
      "File \u001b[1;32m~\\Anaconda3\\lib\\site-packages\\seaborn\\rcmod.py:7\u001b[0m, in \u001b[0;36m<module>\u001b[1;34m\u001b[0m\n\u001b[0;32m      5\u001b[0m \u001b[38;5;28;01mimport\u001b[39;00m \u001b[38;5;21;01mmatplotlib\u001b[39;00m \u001b[38;5;28;01mas\u001b[39;00m \u001b[38;5;21;01mmpl\u001b[39;00m\n\u001b[0;32m      6\u001b[0m \u001b[38;5;28;01mfrom\u001b[39;00m \u001b[38;5;21;01mcycler\u001b[39;00m \u001b[38;5;28;01mimport\u001b[39;00m cycler\n\u001b[1;32m----> 7\u001b[0m \u001b[38;5;28;01mfrom\u001b[39;00m \u001b[38;5;21;01m.\u001b[39;00m \u001b[38;5;28;01mimport\u001b[39;00m palettes\n\u001b[0;32m     10\u001b[0m __all__ \u001b[38;5;241m=\u001b[39m [\u001b[38;5;124m\"\u001b[39m\u001b[38;5;124mset_theme\u001b[39m\u001b[38;5;124m\"\u001b[39m, \u001b[38;5;124m\"\u001b[39m\u001b[38;5;124mset\u001b[39m\u001b[38;5;124m\"\u001b[39m, \u001b[38;5;124m\"\u001b[39m\u001b[38;5;124mreset_defaults\u001b[39m\u001b[38;5;124m\"\u001b[39m, \u001b[38;5;124m\"\u001b[39m\u001b[38;5;124mreset_orig\u001b[39m\u001b[38;5;124m\"\u001b[39m,\n\u001b[0;32m     11\u001b[0m            \u001b[38;5;124m\"\u001b[39m\u001b[38;5;124maxes_style\u001b[39m\u001b[38;5;124m\"\u001b[39m, \u001b[38;5;124m\"\u001b[39m\u001b[38;5;124mset_style\u001b[39m\u001b[38;5;124m\"\u001b[39m, \u001b[38;5;124m\"\u001b[39m\u001b[38;5;124mplotting_context\u001b[39m\u001b[38;5;124m\"\u001b[39m, \u001b[38;5;124m\"\u001b[39m\u001b[38;5;124mset_context\u001b[39m\u001b[38;5;124m\"\u001b[39m,\n\u001b[0;32m     12\u001b[0m            \u001b[38;5;124m\"\u001b[39m\u001b[38;5;124mset_palette\u001b[39m\u001b[38;5;124m\"\u001b[39m]\n\u001b[0;32m     15\u001b[0m _style_keys \u001b[38;5;241m=\u001b[39m [\n\u001b[0;32m     16\u001b[0m \n\u001b[0;32m     17\u001b[0m     \u001b[38;5;124m\"\u001b[39m\u001b[38;5;124maxes.facecolor\u001b[39m\u001b[38;5;124m\"\u001b[39m,\n\u001b[1;32m   (...)\u001b[0m\n\u001b[0;32m     52\u001b[0m \n\u001b[0;32m     53\u001b[0m ]\n",
      "File \u001b[1;32m~\\Anaconda3\\lib\\site-packages\\seaborn\\palettes.py:9\u001b[0m, in \u001b[0;36m<module>\u001b[1;34m\u001b[0m\n\u001b[0;32m      5\u001b[0m \u001b[38;5;28;01mimport\u001b[39;00m \u001b[38;5;21;01mmatplotlib\u001b[39;00m \u001b[38;5;28;01mas\u001b[39;00m \u001b[38;5;21;01mmpl\u001b[39;00m\n\u001b[0;32m      7\u001b[0m \u001b[38;5;28;01mfrom\u001b[39;00m \u001b[38;5;21;01m.\u001b[39;00m\u001b[38;5;21;01mexternal\u001b[39;00m \u001b[38;5;28;01mimport\u001b[39;00m husl\n\u001b[1;32m----> 9\u001b[0m \u001b[38;5;28;01mfrom\u001b[39;00m \u001b[38;5;21;01m.\u001b[39;00m\u001b[38;5;21;01mutils\u001b[39;00m \u001b[38;5;28;01mimport\u001b[39;00m desaturate, get_color_cycle\n\u001b[0;32m     10\u001b[0m \u001b[38;5;28;01mfrom\u001b[39;00m \u001b[38;5;21;01m.\u001b[39;00m\u001b[38;5;21;01mcolors\u001b[39;00m \u001b[38;5;28;01mimport\u001b[39;00m xkcd_rgb, crayons\n\u001b[0;32m     13\u001b[0m __all__ \u001b[38;5;241m=\u001b[39m [\u001b[38;5;124m\"\u001b[39m\u001b[38;5;124mcolor_palette\u001b[39m\u001b[38;5;124m\"\u001b[39m, \u001b[38;5;124m\"\u001b[39m\u001b[38;5;124mhls_palette\u001b[39m\u001b[38;5;124m\"\u001b[39m, \u001b[38;5;124m\"\u001b[39m\u001b[38;5;124mhusl_palette\u001b[39m\u001b[38;5;124m\"\u001b[39m, \u001b[38;5;124m\"\u001b[39m\u001b[38;5;124mmpl_palette\u001b[39m\u001b[38;5;124m\"\u001b[39m,\n\u001b[0;32m     14\u001b[0m            \u001b[38;5;124m\"\u001b[39m\u001b[38;5;124mdark_palette\u001b[39m\u001b[38;5;124m\"\u001b[39m, \u001b[38;5;124m\"\u001b[39m\u001b[38;5;124mlight_palette\u001b[39m\u001b[38;5;124m\"\u001b[39m, \u001b[38;5;124m\"\u001b[39m\u001b[38;5;124mdiverging_palette\u001b[39m\u001b[38;5;124m\"\u001b[39m,\n\u001b[0;32m     15\u001b[0m            \u001b[38;5;124m\"\u001b[39m\u001b[38;5;124mblend_palette\u001b[39m\u001b[38;5;124m\"\u001b[39m, \u001b[38;5;124m\"\u001b[39m\u001b[38;5;124mxkcd_palette\u001b[39m\u001b[38;5;124m\"\u001b[39m, \u001b[38;5;124m\"\u001b[39m\u001b[38;5;124mcrayon_palette\u001b[39m\u001b[38;5;124m\"\u001b[39m,\n\u001b[0;32m     16\u001b[0m            \u001b[38;5;124m\"\u001b[39m\u001b[38;5;124mcubehelix_palette\u001b[39m\u001b[38;5;124m\"\u001b[39m, \u001b[38;5;124m\"\u001b[39m\u001b[38;5;124mset_color_codes\u001b[39m\u001b[38;5;124m\"\u001b[39m]\n",
      "File \u001b[1;32m~\\Anaconda3\\lib\\site-packages\\seaborn\\utils.py:14\u001b[0m, in \u001b[0;36m<module>\u001b[1;34m\u001b[0m\n\u001b[0;32m     12\u001b[0m \u001b[38;5;28;01mimport\u001b[39;00m \u001b[38;5;21;01mmatplotlib\u001b[39;00m \u001b[38;5;28;01mas\u001b[39;00m \u001b[38;5;21;01mmpl\u001b[39;00m\n\u001b[0;32m     13\u001b[0m \u001b[38;5;28;01mimport\u001b[39;00m \u001b[38;5;21;01mmatplotlib\u001b[39;00m\u001b[38;5;21;01m.\u001b[39;00m\u001b[38;5;21;01mcolors\u001b[39;00m \u001b[38;5;28;01mas\u001b[39;00m \u001b[38;5;21;01mmplcol\u001b[39;00m\n\u001b[1;32m---> 14\u001b[0m \u001b[38;5;28;01mimport\u001b[39;00m \u001b[38;5;21;01mmatplotlib\u001b[39;00m\u001b[38;5;21;01m.\u001b[39;00m\u001b[38;5;21;01mpyplot\u001b[39;00m \u001b[38;5;28;01mas\u001b[39;00m \u001b[38;5;21;01mplt\u001b[39;00m\n\u001b[0;32m     15\u001b[0m \u001b[38;5;28;01mfrom\u001b[39;00m \u001b[38;5;21;01mmatplotlib\u001b[39;00m\u001b[38;5;21;01m.\u001b[39;00m\u001b[38;5;21;01mcbook\u001b[39;00m \u001b[38;5;28;01mimport\u001b[39;00m normalize_kwargs\n\u001b[0;32m     18\u001b[0m __all__ \u001b[38;5;241m=\u001b[39m [\u001b[38;5;124m\"\u001b[39m\u001b[38;5;124mdesaturate\u001b[39m\u001b[38;5;124m\"\u001b[39m, \u001b[38;5;124m\"\u001b[39m\u001b[38;5;124msaturate\u001b[39m\u001b[38;5;124m\"\u001b[39m, \u001b[38;5;124m\"\u001b[39m\u001b[38;5;124mset_hls_values\u001b[39m\u001b[38;5;124m\"\u001b[39m, \u001b[38;5;124m\"\u001b[39m\u001b[38;5;124mmove_legend\u001b[39m\u001b[38;5;124m\"\u001b[39m,\n\u001b[0;32m     19\u001b[0m            \u001b[38;5;124m\"\u001b[39m\u001b[38;5;124mdespine\u001b[39m\u001b[38;5;124m\"\u001b[39m, \u001b[38;5;124m\"\u001b[39m\u001b[38;5;124mget_dataset_names\u001b[39m\u001b[38;5;124m\"\u001b[39m, \u001b[38;5;124m\"\u001b[39m\u001b[38;5;124mget_data_home\u001b[39m\u001b[38;5;124m\"\u001b[39m, \u001b[38;5;124m\"\u001b[39m\u001b[38;5;124mload_dataset\u001b[39m\u001b[38;5;124m\"\u001b[39m]\n",
      "File \u001b[1;32m~\\Anaconda3\\lib\\site-packages\\matplotlib\\pyplot.py:60\u001b[0m, in \u001b[0;36m<module>\u001b[1;34m\u001b[0m\n\u001b[0;32m     58\u001b[0m \u001b[38;5;28;01mfrom\u001b[39;00m \u001b[38;5;21;01mmatplotlib\u001b[39;00m \u001b[38;5;28;01mimport\u001b[39;00m _docstring\n\u001b[0;32m     59\u001b[0m \u001b[38;5;28;01mfrom\u001b[39;00m \u001b[38;5;21;01mmatplotlib\u001b[39;00m\u001b[38;5;21;01m.\u001b[39;00m\u001b[38;5;21;01mbackend_bases\u001b[39;00m \u001b[38;5;28;01mimport\u001b[39;00m FigureCanvasBase, MouseButton\n\u001b[1;32m---> 60\u001b[0m \u001b[38;5;28;01mfrom\u001b[39;00m \u001b[38;5;21;01mmatplotlib\u001b[39;00m\u001b[38;5;21;01m.\u001b[39;00m\u001b[38;5;21;01mfigure\u001b[39;00m \u001b[38;5;28;01mimport\u001b[39;00m Figure, FigureBase, figaspect\n\u001b[0;32m     61\u001b[0m \u001b[38;5;28;01mfrom\u001b[39;00m \u001b[38;5;21;01mmatplotlib\u001b[39;00m\u001b[38;5;21;01m.\u001b[39;00m\u001b[38;5;21;01mgridspec\u001b[39;00m \u001b[38;5;28;01mimport\u001b[39;00m GridSpec, SubplotSpec\n\u001b[0;32m     62\u001b[0m \u001b[38;5;28;01mfrom\u001b[39;00m \u001b[38;5;21;01mmatplotlib\u001b[39;00m \u001b[38;5;28;01mimport\u001b[39;00m rcParams, rcParamsDefault, get_backend, rcParamsOrig\n",
      "File \u001b[1;32m~\\Anaconda3\\lib\\site-packages\\matplotlib\\figure.py:43\u001b[0m, in \u001b[0;36m<module>\u001b[1;34m\u001b[0m\n\u001b[0;32m     40\u001b[0m \u001b[38;5;28;01mimport\u001b[39;00m \u001b[38;5;21;01mnumpy\u001b[39;00m \u001b[38;5;28;01mas\u001b[39;00m \u001b[38;5;21;01mnp\u001b[39;00m\n\u001b[0;32m     42\u001b[0m \u001b[38;5;28;01mimport\u001b[39;00m \u001b[38;5;21;01mmatplotlib\u001b[39;00m \u001b[38;5;28;01mas\u001b[39;00m \u001b[38;5;21;01mmpl\u001b[39;00m\n\u001b[1;32m---> 43\u001b[0m \u001b[38;5;28;01mfrom\u001b[39;00m \u001b[38;5;21;01mmatplotlib\u001b[39;00m \u001b[38;5;28;01mimport\u001b[39;00m _blocking_input, backend_bases, _docstring, projections\n\u001b[0;32m     44\u001b[0m \u001b[38;5;28;01mfrom\u001b[39;00m \u001b[38;5;21;01mmatplotlib\u001b[39;00m\u001b[38;5;21;01m.\u001b[39;00m\u001b[38;5;21;01martist\u001b[39;00m \u001b[38;5;28;01mimport\u001b[39;00m (\n\u001b[0;32m     45\u001b[0m     Artist, allow_rasterization, _finalize_rasterization)\n\u001b[0;32m     46\u001b[0m \u001b[38;5;28;01mfrom\u001b[39;00m \u001b[38;5;21;01mmatplotlib\u001b[39;00m\u001b[38;5;21;01m.\u001b[39;00m\u001b[38;5;21;01mbackend_bases\u001b[39;00m \u001b[38;5;28;01mimport\u001b[39;00m (\n\u001b[0;32m     47\u001b[0m     DrawEvent, FigureCanvasBase, NonGuiException, MouseButton, _get_renderer)\n",
      "File \u001b[1;32m~\\Anaconda3\\lib\\site-packages\\matplotlib\\projections\\__init__.py:55\u001b[0m, in \u001b[0;36m<module>\u001b[1;34m\u001b[0m\n\u001b[0;32m      1\u001b[0m \u001b[38;5;124;03m\"\"\"\u001b[39;00m\n\u001b[0;32m      2\u001b[0m \u001b[38;5;124;03mNon-separable transforms that map from data space to screen space.\u001b[39;00m\n\u001b[0;32m      3\u001b[0m \n\u001b[1;32m   (...)\u001b[0m\n\u001b[0;32m     52\u001b[0m \u001b[38;5;124;03m`matplotlib.projections.polar` may also be of interest.\u001b[39;00m\n\u001b[0;32m     53\u001b[0m \u001b[38;5;124;03m\"\"\"\u001b[39;00m\n\u001b[1;32m---> 55\u001b[0m \u001b[38;5;28;01mfrom\u001b[39;00m \u001b[38;5;21;01m.\u001b[39;00m\u001b[38;5;21;01m.\u001b[39;00m \u001b[38;5;28;01mimport\u001b[39;00m axes, _docstring\n\u001b[0;32m     56\u001b[0m \u001b[38;5;28;01mfrom\u001b[39;00m \u001b[38;5;21;01m.\u001b[39;00m\u001b[38;5;21;01mgeo\u001b[39;00m \u001b[38;5;28;01mimport\u001b[39;00m AitoffAxes, HammerAxes, LambertAxes, MollweideAxes\n\u001b[0;32m     57\u001b[0m \u001b[38;5;28;01mfrom\u001b[39;00m \u001b[38;5;21;01m.\u001b[39;00m\u001b[38;5;21;01mpolar\u001b[39;00m \u001b[38;5;28;01mimport\u001b[39;00m PolarAxes\n",
      "\u001b[1;31mImportError\u001b[0m: cannot import name 'axes' from 'matplotlib' (C:\\Users\\2205419\\Anaconda3\\lib\\site-packages\\matplotlib\\__init__.py)"
     ]
    }
   ],
   "source": [
    "# Libraries to help with reading and manipulating data\n",
    "import pandas as pd\n",
    "import numpy as np\n",
    "\n",
    "# Libaries to help with data visualization\n",
    "#import matplotlib.pyplot as plt\n",
    "import seaborn as sns\n",
    "\n",
    "# To tune model, get different metric scores, and split data\n",
    "from sklearn.metrics import (\n",
    "    f1_score,\n",
    "    accuracy_score,\n",
    "    recall_score,\n",
    "    precision_score,\n",
    "    confusion_matrix,\n",
    "    roc_auc_score,\n",
    "    ConfusionMatrixDisplay,\n",
    ")\n",
    "from sklearn import metrics\n",
    "\n",
    "from sklearn.model_selection import train_test_split, StratifiedKFold, cross_val_score\n",
    "\n",
    "# To be used for data scaling and one hot encoding\n",
    "from sklearn.preprocessing import StandardScaler, MinMaxScaler, OneHotEncoder\n",
    "\n",
    "# To impute missing values\n",
    "from sklearn.impute import SimpleImputer\n",
    "\n",
    "# To oversample and undersample data\n",
    "from imblearn.over_sampling import SMOTE\n",
    "from imblearn.under_sampling import RandomUnderSampler\n",
    "\n",
    "# To do hyperparameter tuning\n",
    "from sklearn.model_selection import RandomizedSearchCV\n",
    "\n",
    "# To be used for creating pipelines and personalizing them\n",
    "from sklearn.pipeline import Pipeline\n",
    "from sklearn.compose import ColumnTransformer\n",
    "\n",
    "# To define maximum number of columns to be displayed in a dataframe\n",
    "pd.set_option(\"display.max_columns\", None)\n",
    "pd.set_option(\"display.max_rows\", None)\n",
    "\n",
    "# To supress scientific notations for a dataframe\n",
    "pd.set_option(\"display.float_format\", lambda x: \"%.3f\" % x)\n",
    "\n",
    "# To help with model building\n",
    "from sklearn.linear_model import LogisticRegression\n",
    "from sklearn.tree import DecisionTreeClassifier\n",
    "from sklearn.ensemble import (\n",
    "    AdaBoostClassifier,\n",
    "    GradientBoostingClassifier,\n",
    "    RandomForestClassifier,\n",
    "    BaggingClassifier,\n",
    ")\n",
    "from xgboost import XGBClassifier\n",
    "\n",
    "# To suppress scientific notations\n",
    "pd.set_option(\"display.float_format\", lambda x: \"%.3f\" % x)\n",
    "\n",
    "# To suppress warnings\n",
    "import warnings\n",
    "\n",
    "warnings.filterwarnings(\"ignore\")\n",
    "\n",
    "# This will help in making the Python code more structured automatically (good coding practice)\n",
    "#%load_ext nb_black"
   ]
  },
  {
   "cell_type": "code",
   "execution_count": null,
   "metadata": {},
   "outputs": [],
   "source": []
  },
  {
   "cell_type": "code",
   "execution_count": 47,
   "metadata": {},
   "outputs": [],
   "source": [
    "from sklearn.model_selection import train_test_split\n",
    "from sklearn import metrics\n",
    "from sklearn.impute import SimpleImputer\n",
    "from sklearn.linear_model import LogisticRegression\n",
    "from sklearn.tree import DecisionTreeClassifier\n",
    "from sklearn.ensemble import (\n",
    "    AdaBoostClassifier,\n",
    "    GradientBoostingClassifier,\n",
    "    RandomForestClassifier,\n",
    "    BaggingClassifier,\n",
    ")\n",
    "from xgboost import XGBClassifier\n",
    "from sklearn.model_selection import StratifiedKFold\n",
    "from sklearn.model_selection import cross_val_score\n",
    "from sklearn.metrics import recall_score\n",
    "from imblearn import under_sampling, over_sampling\n",
    "from imblearn.over_sampling import SMOTE"
   ]
  },
  {
   "cell_type": "markdown",
   "metadata": {
    "id": "xxhpZv9y-qTw"
   },
   "source": [
    "## Loading the dataset"
   ]
  },
  {
   "cell_type": "code",
   "execution_count": 4,
   "metadata": {
    "id": "39UgpBY3bp0y"
   },
   "outputs": [],
   "source": [
    "df = pd.read_csv('Train.csv.csv') ##  Complete the code to read the data\n",
    "df_test = pd.read_csv('Test.csv.csv') ##  Complete the code to read the data"
   ]
  },
  {
   "cell_type": "markdown",
   "metadata": {
    "id": "M1TEog7cAs5m"
   },
   "source": [
    "## Data Overview"
   ]
  },
  {
   "cell_type": "markdown",
   "metadata": {
    "id": "W-5jUOgu-qTz"
   },
   "source": [
    "The initial steps to get an overview of any dataset is to: \n",
    "- observe the first few rows of the dataset, to check whether the dataset has been loaded properly or not\n",
    "- get information about the number of rows and columns in the dataset\n",
    "- find out the data types of the columns to ensure that data is stored in the preferred format and the value of each property is as expected.\n",
    "- check the statistical summary of the dataset to get an overview of the numerical columns of the data"
   ]
  },
  {
   "cell_type": "markdown",
   "metadata": {
    "id": "KQi5ygTC-qT1"
   },
   "source": [
    "### Checking the shape of the dataset"
   ]
  },
  {
   "cell_type": "code",
   "execution_count": 5,
   "metadata": {
    "id": "7Y8epHpjbp0z"
   },
   "outputs": [
    {
     "data": {
      "text/plain": [
       "(20000, 41)"
      ]
     },
     "execution_count": 5,
     "metadata": {},
     "output_type": "execute_result"
    }
   ],
   "source": [
    "# Checking the number of rows and columns in the training data\n",
    "df.shape ##  Complete the code to view dimensions of the train data"
   ]
  },
  {
   "cell_type": "code",
   "execution_count": 6,
   "metadata": {
    "id": "hA15qTjzbp01"
   },
   "outputs": [
    {
     "data": {
      "text/plain": [
       "(5000, 41)"
      ]
     },
     "execution_count": 6,
     "metadata": {},
     "output_type": "execute_result"
    }
   ],
   "source": [
    "# Checking the number of rows and columns in the test data\n",
    "df_test.shape ##  Complete the code to view dimensions of the test data"
   ]
  },
  {
   "cell_type": "code",
   "execution_count": 7,
   "metadata": {
    "id": "QTsYJZBubp02"
   },
   "outputs": [],
   "source": [
    "# let's create a copy of the training data\n",
    "data = df.copy()"
   ]
  },
  {
   "cell_type": "code",
   "execution_count": 8,
   "metadata": {
    "id": "69ImWbLXbp03"
   },
   "outputs": [],
   "source": [
    "# let's create a copy of the training data\n",
    "data_test = df_test.copy()"
   ]
  },
  {
   "cell_type": "markdown",
   "metadata": {
    "id": "961px703qhLV"
   },
   "source": [
    "### Displaying the first few rows of the dataset"
   ]
  },
  {
   "cell_type": "code",
   "execution_count": 9,
   "metadata": {
    "id": "l9RnN7Twbp03"
   },
   "outputs": [
    {
     "data": {
      "text/html": [
       "<div>\n",
       "<style scoped>\n",
       "    .dataframe tbody tr th:only-of-type {\n",
       "        vertical-align: middle;\n",
       "    }\n",
       "\n",
       "    .dataframe tbody tr th {\n",
       "        vertical-align: top;\n",
       "    }\n",
       "\n",
       "    .dataframe thead th {\n",
       "        text-align: right;\n",
       "    }\n",
       "</style>\n",
       "<table border=\"1\" class=\"dataframe\">\n",
       "  <thead>\n",
       "    <tr style=\"text-align: right;\">\n",
       "      <th></th>\n",
       "      <th>V1</th>\n",
       "      <th>V2</th>\n",
       "      <th>V3</th>\n",
       "      <th>V4</th>\n",
       "      <th>V5</th>\n",
       "      <th>V6</th>\n",
       "      <th>V7</th>\n",
       "      <th>V8</th>\n",
       "      <th>V9</th>\n",
       "      <th>V10</th>\n",
       "      <th>...</th>\n",
       "      <th>V32</th>\n",
       "      <th>V33</th>\n",
       "      <th>V34</th>\n",
       "      <th>V35</th>\n",
       "      <th>V36</th>\n",
       "      <th>V37</th>\n",
       "      <th>V38</th>\n",
       "      <th>V39</th>\n",
       "      <th>V40</th>\n",
       "      <th>Target</th>\n",
       "    </tr>\n",
       "  </thead>\n",
       "  <tbody>\n",
       "    <tr>\n",
       "      <th>0</th>\n",
       "      <td>-4.464606</td>\n",
       "      <td>-4.679129</td>\n",
       "      <td>3.101546</td>\n",
       "      <td>0.506130</td>\n",
       "      <td>-0.221083</td>\n",
       "      <td>-2.032511</td>\n",
       "      <td>-2.910870</td>\n",
       "      <td>0.050714</td>\n",
       "      <td>-1.522351</td>\n",
       "      <td>3.761892</td>\n",
       "      <td>...</td>\n",
       "      <td>3.059700</td>\n",
       "      <td>-1.690440</td>\n",
       "      <td>2.846296</td>\n",
       "      <td>2.235198</td>\n",
       "      <td>6.667486</td>\n",
       "      <td>0.443809</td>\n",
       "      <td>-2.369169</td>\n",
       "      <td>2.950578</td>\n",
       "      <td>-3.480324</td>\n",
       "      <td>0</td>\n",
       "    </tr>\n",
       "    <tr>\n",
       "      <th>1</th>\n",
       "      <td>3.365912</td>\n",
       "      <td>3.653381</td>\n",
       "      <td>0.909671</td>\n",
       "      <td>-1.367528</td>\n",
       "      <td>0.332016</td>\n",
       "      <td>2.358938</td>\n",
       "      <td>0.732600</td>\n",
       "      <td>-4.332135</td>\n",
       "      <td>0.565695</td>\n",
       "      <td>-0.101080</td>\n",
       "      <td>...</td>\n",
       "      <td>-1.795474</td>\n",
       "      <td>3.032780</td>\n",
       "      <td>-2.467514</td>\n",
       "      <td>1.894599</td>\n",
       "      <td>-2.297780</td>\n",
       "      <td>-1.731048</td>\n",
       "      <td>5.908837</td>\n",
       "      <td>-0.386345</td>\n",
       "      <td>0.616242</td>\n",
       "      <td>0</td>\n",
       "    </tr>\n",
       "    <tr>\n",
       "      <th>2</th>\n",
       "      <td>-3.831843</td>\n",
       "      <td>-5.824444</td>\n",
       "      <td>0.634031</td>\n",
       "      <td>-2.418815</td>\n",
       "      <td>-1.773827</td>\n",
       "      <td>1.016824</td>\n",
       "      <td>-2.098941</td>\n",
       "      <td>-3.173204</td>\n",
       "      <td>-2.081860</td>\n",
       "      <td>5.392621</td>\n",
       "      <td>...</td>\n",
       "      <td>-0.257101</td>\n",
       "      <td>0.803550</td>\n",
       "      <td>4.086219</td>\n",
       "      <td>2.292138</td>\n",
       "      <td>5.360850</td>\n",
       "      <td>0.351993</td>\n",
       "      <td>2.940021</td>\n",
       "      <td>3.839160</td>\n",
       "      <td>-4.309402</td>\n",
       "      <td>0</td>\n",
       "    </tr>\n",
       "    <tr>\n",
       "      <th>3</th>\n",
       "      <td>1.618098</td>\n",
       "      <td>1.888342</td>\n",
       "      <td>7.046143</td>\n",
       "      <td>-1.147285</td>\n",
       "      <td>0.083080</td>\n",
       "      <td>-1.529780</td>\n",
       "      <td>0.207309</td>\n",
       "      <td>-2.493629</td>\n",
       "      <td>0.344926</td>\n",
       "      <td>2.118578</td>\n",
       "      <td>...</td>\n",
       "      <td>-3.584425</td>\n",
       "      <td>-2.577474</td>\n",
       "      <td>1.363769</td>\n",
       "      <td>0.622714</td>\n",
       "      <td>5.550100</td>\n",
       "      <td>-1.526796</td>\n",
       "      <td>0.138853</td>\n",
       "      <td>3.101430</td>\n",
       "      <td>-1.277378</td>\n",
       "      <td>0</td>\n",
       "    </tr>\n",
       "    <tr>\n",
       "      <th>4</th>\n",
       "      <td>-0.111440</td>\n",
       "      <td>3.872488</td>\n",
       "      <td>-3.758361</td>\n",
       "      <td>-2.982897</td>\n",
       "      <td>3.792714</td>\n",
       "      <td>0.544960</td>\n",
       "      <td>0.205433</td>\n",
       "      <td>4.848994</td>\n",
       "      <td>-1.854920</td>\n",
       "      <td>-6.220023</td>\n",
       "      <td>...</td>\n",
       "      <td>8.265896</td>\n",
       "      <td>6.629213</td>\n",
       "      <td>-10.068689</td>\n",
       "      <td>1.222987</td>\n",
       "      <td>-3.229763</td>\n",
       "      <td>1.686909</td>\n",
       "      <td>-2.163896</td>\n",
       "      <td>-3.644622</td>\n",
       "      <td>6.510338</td>\n",
       "      <td>0</td>\n",
       "    </tr>\n",
       "  </tbody>\n",
       "</table>\n",
       "<p>5 rows × 41 columns</p>\n",
       "</div>"
      ],
      "text/plain": [
       "         V1        V2        V3        V4        V5        V6        V7  \\\n",
       "0 -4.464606 -4.679129  3.101546  0.506130 -0.221083 -2.032511 -2.910870   \n",
       "1  3.365912  3.653381  0.909671 -1.367528  0.332016  2.358938  0.732600   \n",
       "2 -3.831843 -5.824444  0.634031 -2.418815 -1.773827  1.016824 -2.098941   \n",
       "3  1.618098  1.888342  7.046143 -1.147285  0.083080 -1.529780  0.207309   \n",
       "4 -0.111440  3.872488 -3.758361 -2.982897  3.792714  0.544960  0.205433   \n",
       "\n",
       "         V8        V9       V10  ...       V32       V33        V34       V35  \\\n",
       "0  0.050714 -1.522351  3.761892  ...  3.059700 -1.690440   2.846296  2.235198   \n",
       "1 -4.332135  0.565695 -0.101080  ... -1.795474  3.032780  -2.467514  1.894599   \n",
       "2 -3.173204 -2.081860  5.392621  ... -0.257101  0.803550   4.086219  2.292138   \n",
       "3 -2.493629  0.344926  2.118578  ... -3.584425 -2.577474   1.363769  0.622714   \n",
       "4  4.848994 -1.854920 -6.220023  ...  8.265896  6.629213 -10.068689  1.222987   \n",
       "\n",
       "        V36       V37       V38       V39       V40  Target  \n",
       "0  6.667486  0.443809 -2.369169  2.950578 -3.480324       0  \n",
       "1 -2.297780 -1.731048  5.908837 -0.386345  0.616242       0  \n",
       "2  5.360850  0.351993  2.940021  3.839160 -4.309402       0  \n",
       "3  5.550100 -1.526796  0.138853  3.101430 -1.277378       0  \n",
       "4 -3.229763  1.686909 -2.163896 -3.644622  6.510338       0  \n",
       "\n",
       "[5 rows x 41 columns]"
      ]
     },
     "execution_count": 9,
     "metadata": {},
     "output_type": "execute_result"
    }
   ],
   "source": [
    "# let's view the first 5 rows of the data\n",
    "data.head() ##  Complete the code to view top 5 rows of the data"
   ]
  },
  {
   "cell_type": "code",
   "execution_count": 10,
   "metadata": {
    "id": "N9Ir8YPgbp04"
   },
   "outputs": [
    {
     "data": {
      "text/html": [
       "<div>\n",
       "<style scoped>\n",
       "    .dataframe tbody tr th:only-of-type {\n",
       "        vertical-align: middle;\n",
       "    }\n",
       "\n",
       "    .dataframe tbody tr th {\n",
       "        vertical-align: top;\n",
       "    }\n",
       "\n",
       "    .dataframe thead th {\n",
       "        text-align: right;\n",
       "    }\n",
       "</style>\n",
       "<table border=\"1\" class=\"dataframe\">\n",
       "  <thead>\n",
       "    <tr style=\"text-align: right;\">\n",
       "      <th></th>\n",
       "      <th>V1</th>\n",
       "      <th>V2</th>\n",
       "      <th>V3</th>\n",
       "      <th>V4</th>\n",
       "      <th>V5</th>\n",
       "      <th>V6</th>\n",
       "      <th>V7</th>\n",
       "      <th>V8</th>\n",
       "      <th>V9</th>\n",
       "      <th>V10</th>\n",
       "      <th>...</th>\n",
       "      <th>V32</th>\n",
       "      <th>V33</th>\n",
       "      <th>V34</th>\n",
       "      <th>V35</th>\n",
       "      <th>V36</th>\n",
       "      <th>V37</th>\n",
       "      <th>V38</th>\n",
       "      <th>V39</th>\n",
       "      <th>V40</th>\n",
       "      <th>Target</th>\n",
       "    </tr>\n",
       "  </thead>\n",
       "  <tbody>\n",
       "    <tr>\n",
       "      <th>0</th>\n",
       "      <td>-0.613489</td>\n",
       "      <td>-3.819640</td>\n",
       "      <td>2.202302</td>\n",
       "      <td>1.300420</td>\n",
       "      <td>-1.184929</td>\n",
       "      <td>-4.495964</td>\n",
       "      <td>-1.835817</td>\n",
       "      <td>4.722989</td>\n",
       "      <td>1.206140</td>\n",
       "      <td>-0.341909</td>\n",
       "      <td>...</td>\n",
       "      <td>2.291204</td>\n",
       "      <td>-5.411388</td>\n",
       "      <td>0.870073</td>\n",
       "      <td>0.574479</td>\n",
       "      <td>4.157191</td>\n",
       "      <td>1.428093</td>\n",
       "      <td>-10.511342</td>\n",
       "      <td>0.454664</td>\n",
       "      <td>-1.448363</td>\n",
       "      <td>0</td>\n",
       "    </tr>\n",
       "    <tr>\n",
       "      <th>1</th>\n",
       "      <td>0.389608</td>\n",
       "      <td>-0.512341</td>\n",
       "      <td>0.527053</td>\n",
       "      <td>-2.576776</td>\n",
       "      <td>-1.016766</td>\n",
       "      <td>2.235112</td>\n",
       "      <td>-0.441301</td>\n",
       "      <td>-4.405744</td>\n",
       "      <td>-0.332869</td>\n",
       "      <td>1.966794</td>\n",
       "      <td>...</td>\n",
       "      <td>-2.474936</td>\n",
       "      <td>2.493582</td>\n",
       "      <td>0.315165</td>\n",
       "      <td>2.059288</td>\n",
       "      <td>0.683859</td>\n",
       "      <td>-0.485452</td>\n",
       "      <td>5.128350</td>\n",
       "      <td>1.720744</td>\n",
       "      <td>-1.488235</td>\n",
       "      <td>0</td>\n",
       "    </tr>\n",
       "    <tr>\n",
       "      <th>2</th>\n",
       "      <td>-0.874861</td>\n",
       "      <td>-0.640632</td>\n",
       "      <td>4.084202</td>\n",
       "      <td>-1.590454</td>\n",
       "      <td>0.525855</td>\n",
       "      <td>-1.957592</td>\n",
       "      <td>-0.695367</td>\n",
       "      <td>1.347309</td>\n",
       "      <td>-1.732348</td>\n",
       "      <td>0.466500</td>\n",
       "      <td>...</td>\n",
       "      <td>-1.318888</td>\n",
       "      <td>-2.997464</td>\n",
       "      <td>0.459664</td>\n",
       "      <td>0.619774</td>\n",
       "      <td>5.631504</td>\n",
       "      <td>1.323512</td>\n",
       "      <td>-1.752154</td>\n",
       "      <td>1.808302</td>\n",
       "      <td>1.675748</td>\n",
       "      <td>0</td>\n",
       "    </tr>\n",
       "    <tr>\n",
       "      <th>3</th>\n",
       "      <td>0.238384</td>\n",
       "      <td>1.458607</td>\n",
       "      <td>4.014528</td>\n",
       "      <td>2.534478</td>\n",
       "      <td>1.196987</td>\n",
       "      <td>-3.117330</td>\n",
       "      <td>-0.924035</td>\n",
       "      <td>0.269493</td>\n",
       "      <td>1.322436</td>\n",
       "      <td>0.702345</td>\n",
       "      <td>...</td>\n",
       "      <td>3.517918</td>\n",
       "      <td>-3.074085</td>\n",
       "      <td>-0.284220</td>\n",
       "      <td>0.954576</td>\n",
       "      <td>3.029331</td>\n",
       "      <td>-1.367198</td>\n",
       "      <td>-3.412140</td>\n",
       "      <td>0.906000</td>\n",
       "      <td>-2.450889</td>\n",
       "      <td>0</td>\n",
       "    </tr>\n",
       "    <tr>\n",
       "      <th>4</th>\n",
       "      <td>5.828225</td>\n",
       "      <td>2.768260</td>\n",
       "      <td>-1.234530</td>\n",
       "      <td>2.809264</td>\n",
       "      <td>-1.641648</td>\n",
       "      <td>-1.406698</td>\n",
       "      <td>0.568643</td>\n",
       "      <td>0.965043</td>\n",
       "      <td>1.918379</td>\n",
       "      <td>-2.774855</td>\n",
       "      <td>...</td>\n",
       "      <td>1.773841</td>\n",
       "      <td>-1.501573</td>\n",
       "      <td>-2.226702</td>\n",
       "      <td>4.776830</td>\n",
       "      <td>-6.559698</td>\n",
       "      <td>-0.805551</td>\n",
       "      <td>-0.276007</td>\n",
       "      <td>-3.858207</td>\n",
       "      <td>-0.537694</td>\n",
       "      <td>0</td>\n",
       "    </tr>\n",
       "  </tbody>\n",
       "</table>\n",
       "<p>5 rows × 41 columns</p>\n",
       "</div>"
      ],
      "text/plain": [
       "         V1        V2        V3        V4        V5        V6        V7  \\\n",
       "0 -0.613489 -3.819640  2.202302  1.300420 -1.184929 -4.495964 -1.835817   \n",
       "1  0.389608 -0.512341  0.527053 -2.576776 -1.016766  2.235112 -0.441301   \n",
       "2 -0.874861 -0.640632  4.084202 -1.590454  0.525855 -1.957592 -0.695367   \n",
       "3  0.238384  1.458607  4.014528  2.534478  1.196987 -3.117330 -0.924035   \n",
       "4  5.828225  2.768260 -1.234530  2.809264 -1.641648 -1.406698  0.568643   \n",
       "\n",
       "         V8        V9       V10  ...       V32       V33       V34       V35  \\\n",
       "0  4.722989  1.206140 -0.341909  ...  2.291204 -5.411388  0.870073  0.574479   \n",
       "1 -4.405744 -0.332869  1.966794  ... -2.474936  2.493582  0.315165  2.059288   \n",
       "2  1.347309 -1.732348  0.466500  ... -1.318888 -2.997464  0.459664  0.619774   \n",
       "3  0.269493  1.322436  0.702345  ...  3.517918 -3.074085 -0.284220  0.954576   \n",
       "4  0.965043  1.918379 -2.774855  ...  1.773841 -1.501573 -2.226702  4.776830   \n",
       "\n",
       "        V36       V37        V38       V39       V40  Target  \n",
       "0  4.157191  1.428093 -10.511342  0.454664 -1.448363       0  \n",
       "1  0.683859 -0.485452   5.128350  1.720744 -1.488235       0  \n",
       "2  5.631504  1.323512  -1.752154  1.808302  1.675748       0  \n",
       "3  3.029331 -1.367198  -3.412140  0.906000 -2.450889       0  \n",
       "4 -6.559698 -0.805551  -0.276007 -3.858207 -0.537694       0  \n",
       "\n",
       "[5 rows x 41 columns]"
      ]
     },
     "execution_count": 10,
     "metadata": {},
     "output_type": "execute_result"
    }
   ],
   "source": [
    "# let's view the last 5 rows of the data\n",
    "data_test.head() ##  Complete the code to view last 5 rows of the data  "
   ]
  },
  {
   "cell_type": "markdown",
   "metadata": {
    "id": "5TcqcxbK-qT3"
   },
   "source": [
    "### Checking the data types of the columns for the dataset"
   ]
  },
  {
   "cell_type": "code",
   "execution_count": 11,
   "metadata": {
    "id": "EXBYJoKkbp04"
   },
   "outputs": [
    {
     "name": "stdout",
     "output_type": "stream",
     "text": [
      "<class 'pandas.core.frame.DataFrame'>\n",
      "RangeIndex: 20000 entries, 0 to 19999\n",
      "Data columns (total 41 columns):\n",
      " #   Column  Non-Null Count  Dtype  \n",
      "---  ------  --------------  -----  \n",
      " 0   V1      19982 non-null  float64\n",
      " 1   V2      19982 non-null  float64\n",
      " 2   V3      20000 non-null  float64\n",
      " 3   V4      20000 non-null  float64\n",
      " 4   V5      20000 non-null  float64\n",
      " 5   V6      20000 non-null  float64\n",
      " 6   V7      20000 non-null  float64\n",
      " 7   V8      20000 non-null  float64\n",
      " 8   V9      20000 non-null  float64\n",
      " 9   V10     20000 non-null  float64\n",
      " 10  V11     20000 non-null  float64\n",
      " 11  V12     20000 non-null  float64\n",
      " 12  V13     20000 non-null  float64\n",
      " 13  V14     20000 non-null  float64\n",
      " 14  V15     20000 non-null  float64\n",
      " 15  V16     20000 non-null  float64\n",
      " 16  V17     20000 non-null  float64\n",
      " 17  V18     20000 non-null  float64\n",
      " 18  V19     20000 non-null  float64\n",
      " 19  V20     20000 non-null  float64\n",
      " 20  V21     20000 non-null  float64\n",
      " 21  V22     20000 non-null  float64\n",
      " 22  V23     20000 non-null  float64\n",
      " 23  V24     20000 non-null  float64\n",
      " 24  V25     20000 non-null  float64\n",
      " 25  V26     20000 non-null  float64\n",
      " 26  V27     20000 non-null  float64\n",
      " 27  V28     20000 non-null  float64\n",
      " 28  V29     20000 non-null  float64\n",
      " 29  V30     20000 non-null  float64\n",
      " 30  V31     20000 non-null  float64\n",
      " 31  V32     20000 non-null  float64\n",
      " 32  V33     20000 non-null  float64\n",
      " 33  V34     20000 non-null  float64\n",
      " 34  V35     20000 non-null  float64\n",
      " 35  V36     20000 non-null  float64\n",
      " 36  V37     20000 non-null  float64\n",
      " 37  V38     20000 non-null  float64\n",
      " 38  V39     20000 non-null  float64\n",
      " 39  V40     20000 non-null  float64\n",
      " 40  Target  20000 non-null  int64  \n",
      "dtypes: float64(40), int64(1)\n",
      "memory usage: 6.3 MB\n"
     ]
    }
   ],
   "source": [
    "# let's check the data types of the columns in the dataset\n",
    "data.info()"
   ]
  },
  {
   "cell_type": "markdown",
   "metadata": {
    "id": "xNr4bWoM-qT5"
   },
   "source": [
    "### Checking for duplicate values"
   ]
  },
  {
   "cell_type": "code",
   "execution_count": 12,
   "metadata": {
    "id": "V0EmBHNmbp04"
   },
   "outputs": [
    {
     "data": {
      "text/plain": [
       "0"
      ]
     },
     "execution_count": 12,
     "metadata": {},
     "output_type": "execute_result"
    }
   ],
   "source": [
    "# let's check for duplicate values in the data\n",
    "data.duplicated().sum() ##  Complete the code to check duplicate entries in the data"
   ]
  },
  {
   "cell_type": "markdown",
   "metadata": {
    "id": "Ch_TjRfF-qT5"
   },
   "source": [
    "### Checking for missing values"
   ]
  },
  {
   "cell_type": "code",
   "execution_count": 13,
   "metadata": {
    "id": "SlwFZm-Jbp05"
   },
   "outputs": [
    {
     "data": {
      "text/plain": [
       "V1        18\n",
       "V2        18\n",
       "V3         0\n",
       "V4         0\n",
       "V5         0\n",
       "V6         0\n",
       "V7         0\n",
       "V8         0\n",
       "V9         0\n",
       "V10        0\n",
       "V11        0\n",
       "V12        0\n",
       "V13        0\n",
       "V14        0\n",
       "V15        0\n",
       "V16        0\n",
       "V17        0\n",
       "V18        0\n",
       "V19        0\n",
       "V20        0\n",
       "V21        0\n",
       "V22        0\n",
       "V23        0\n",
       "V24        0\n",
       "V25        0\n",
       "V26        0\n",
       "V27        0\n",
       "V28        0\n",
       "V29        0\n",
       "V30        0\n",
       "V31        0\n",
       "V32        0\n",
       "V33        0\n",
       "V34        0\n",
       "V35        0\n",
       "V36        0\n",
       "V37        0\n",
       "V38        0\n",
       "V39        0\n",
       "V40        0\n",
       "Target     0\n",
       "dtype: int64"
      ]
     },
     "execution_count": 13,
     "metadata": {},
     "output_type": "execute_result"
    }
   ],
   "source": [
    "# let's check for missing values in the data\n",
    "data.isna().sum() ##  Complete the code to check missing entries in the train data"
   ]
  },
  {
   "cell_type": "code",
   "execution_count": 14,
   "metadata": {
    "id": "33bar6robp06"
   },
   "outputs": [
    {
     "data": {
      "text/plain": [
       "V1        5\n",
       "V2        6\n",
       "V3        0\n",
       "V4        0\n",
       "V5        0\n",
       "V6        0\n",
       "V7        0\n",
       "V8        0\n",
       "V9        0\n",
       "V10       0\n",
       "V11       0\n",
       "V12       0\n",
       "V13       0\n",
       "V14       0\n",
       "V15       0\n",
       "V16       0\n",
       "V17       0\n",
       "V18       0\n",
       "V19       0\n",
       "V20       0\n",
       "V21       0\n",
       "V22       0\n",
       "V23       0\n",
       "V24       0\n",
       "V25       0\n",
       "V26       0\n",
       "V27       0\n",
       "V28       0\n",
       "V29       0\n",
       "V30       0\n",
       "V31       0\n",
       "V32       0\n",
       "V33       0\n",
       "V34       0\n",
       "V35       0\n",
       "V36       0\n",
       "V37       0\n",
       "V38       0\n",
       "V39       0\n",
       "V40       0\n",
       "Target    0\n",
       "dtype: int64"
      ]
     },
     "execution_count": 14,
     "metadata": {},
     "output_type": "execute_result"
    }
   ],
   "source": [
    "# let's check for missing values in the data\n",
    "data_test.isna().sum() ##  Complete the code to check missing entries in the test data"
   ]
  },
  {
   "cell_type": "markdown",
   "metadata": {
    "id": "nUCorhch-qT4"
   },
   "source": [
    "### Statistical summary of the dataset"
   ]
  },
  {
   "cell_type": "code",
   "execution_count": 15,
   "metadata": {
    "id": "J6lzvHKCbp06"
   },
   "outputs": [
    {
     "data": {
      "text/html": [
       "<div>\n",
       "<style scoped>\n",
       "    .dataframe tbody tr th:only-of-type {\n",
       "        vertical-align: middle;\n",
       "    }\n",
       "\n",
       "    .dataframe tbody tr th {\n",
       "        vertical-align: top;\n",
       "    }\n",
       "\n",
       "    .dataframe thead th {\n",
       "        text-align: right;\n",
       "    }\n",
       "</style>\n",
       "<table border=\"1\" class=\"dataframe\">\n",
       "  <thead>\n",
       "    <tr style=\"text-align: right;\">\n",
       "      <th></th>\n",
       "      <th>V1</th>\n",
       "      <th>V2</th>\n",
       "      <th>V3</th>\n",
       "      <th>V4</th>\n",
       "      <th>V5</th>\n",
       "      <th>V6</th>\n",
       "      <th>V7</th>\n",
       "      <th>V8</th>\n",
       "      <th>V9</th>\n",
       "      <th>V10</th>\n",
       "      <th>...</th>\n",
       "      <th>V32</th>\n",
       "      <th>V33</th>\n",
       "      <th>V34</th>\n",
       "      <th>V35</th>\n",
       "      <th>V36</th>\n",
       "      <th>V37</th>\n",
       "      <th>V38</th>\n",
       "      <th>V39</th>\n",
       "      <th>V40</th>\n",
       "      <th>Target</th>\n",
       "    </tr>\n",
       "  </thead>\n",
       "  <tbody>\n",
       "    <tr>\n",
       "      <th>count</th>\n",
       "      <td>19982.000000</td>\n",
       "      <td>19982.000000</td>\n",
       "      <td>20000.000000</td>\n",
       "      <td>20000.000000</td>\n",
       "      <td>20000.000000</td>\n",
       "      <td>20000.000000</td>\n",
       "      <td>20000.000000</td>\n",
       "      <td>20000.000000</td>\n",
       "      <td>20000.000000</td>\n",
       "      <td>20000.000000</td>\n",
       "      <td>...</td>\n",
       "      <td>20000.000000</td>\n",
       "      <td>20000.000000</td>\n",
       "      <td>20000.000000</td>\n",
       "      <td>20000.000000</td>\n",
       "      <td>20000.000000</td>\n",
       "      <td>20000.000000</td>\n",
       "      <td>20000.000000</td>\n",
       "      <td>20000.000000</td>\n",
       "      <td>20000.000000</td>\n",
       "      <td>20000.000000</td>\n",
       "    </tr>\n",
       "    <tr>\n",
       "      <th>mean</th>\n",
       "      <td>-0.271996</td>\n",
       "      <td>0.440430</td>\n",
       "      <td>2.484699</td>\n",
       "      <td>-0.083152</td>\n",
       "      <td>-0.053752</td>\n",
       "      <td>-0.995443</td>\n",
       "      <td>-0.879325</td>\n",
       "      <td>-0.548195</td>\n",
       "      <td>-0.016808</td>\n",
       "      <td>-0.012998</td>\n",
       "      <td>...</td>\n",
       "      <td>0.303799</td>\n",
       "      <td>0.049825</td>\n",
       "      <td>-0.462702</td>\n",
       "      <td>2.229620</td>\n",
       "      <td>1.514809</td>\n",
       "      <td>0.011316</td>\n",
       "      <td>-0.344025</td>\n",
       "      <td>0.890653</td>\n",
       "      <td>-0.875630</td>\n",
       "      <td>0.055500</td>\n",
       "    </tr>\n",
       "    <tr>\n",
       "      <th>std</th>\n",
       "      <td>3.441625</td>\n",
       "      <td>3.150784</td>\n",
       "      <td>3.388963</td>\n",
       "      <td>3.431595</td>\n",
       "      <td>2.104801</td>\n",
       "      <td>2.040970</td>\n",
       "      <td>1.761626</td>\n",
       "      <td>3.295756</td>\n",
       "      <td>2.160568</td>\n",
       "      <td>2.193201</td>\n",
       "      <td>...</td>\n",
       "      <td>5.500400</td>\n",
       "      <td>3.575285</td>\n",
       "      <td>3.183841</td>\n",
       "      <td>2.937102</td>\n",
       "      <td>3.800860</td>\n",
       "      <td>1.788165</td>\n",
       "      <td>3.948147</td>\n",
       "      <td>1.753054</td>\n",
       "      <td>3.012155</td>\n",
       "      <td>0.228959</td>\n",
       "    </tr>\n",
       "    <tr>\n",
       "      <th>min</th>\n",
       "      <td>-11.876451</td>\n",
       "      <td>-12.319951</td>\n",
       "      <td>-10.708139</td>\n",
       "      <td>-15.082052</td>\n",
       "      <td>-8.603361</td>\n",
       "      <td>-10.227147</td>\n",
       "      <td>-7.949681</td>\n",
       "      <td>-15.657561</td>\n",
       "      <td>-8.596313</td>\n",
       "      <td>-9.853957</td>\n",
       "      <td>...</td>\n",
       "      <td>-19.876502</td>\n",
       "      <td>-16.898353</td>\n",
       "      <td>-17.985094</td>\n",
       "      <td>-15.349803</td>\n",
       "      <td>-14.833178</td>\n",
       "      <td>-5.478350</td>\n",
       "      <td>-17.375002</td>\n",
       "      <td>-6.438880</td>\n",
       "      <td>-11.023935</td>\n",
       "      <td>0.000000</td>\n",
       "    </tr>\n",
       "    <tr>\n",
       "      <th>25%</th>\n",
       "      <td>-2.737146</td>\n",
       "      <td>-1.640674</td>\n",
       "      <td>0.206860</td>\n",
       "      <td>-2.347660</td>\n",
       "      <td>-1.535607</td>\n",
       "      <td>-2.347238</td>\n",
       "      <td>-2.030926</td>\n",
       "      <td>-2.642665</td>\n",
       "      <td>-1.494973</td>\n",
       "      <td>-1.411212</td>\n",
       "      <td>...</td>\n",
       "      <td>-3.420469</td>\n",
       "      <td>-2.242857</td>\n",
       "      <td>-2.136984</td>\n",
       "      <td>0.336191</td>\n",
       "      <td>-0.943809</td>\n",
       "      <td>-1.255819</td>\n",
       "      <td>-2.987638</td>\n",
       "      <td>-0.272250</td>\n",
       "      <td>-2.940193</td>\n",
       "      <td>0.000000</td>\n",
       "    </tr>\n",
       "    <tr>\n",
       "      <th>50%</th>\n",
       "      <td>-0.747917</td>\n",
       "      <td>0.471536</td>\n",
       "      <td>2.255786</td>\n",
       "      <td>-0.135241</td>\n",
       "      <td>-0.101952</td>\n",
       "      <td>-1.000515</td>\n",
       "      <td>-0.917179</td>\n",
       "      <td>-0.389085</td>\n",
       "      <td>-0.067597</td>\n",
       "      <td>0.100973</td>\n",
       "      <td>...</td>\n",
       "      <td>0.052073</td>\n",
       "      <td>-0.066249</td>\n",
       "      <td>-0.255008</td>\n",
       "      <td>2.098633</td>\n",
       "      <td>1.566526</td>\n",
       "      <td>-0.128435</td>\n",
       "      <td>-0.316849</td>\n",
       "      <td>0.919261</td>\n",
       "      <td>-0.920806</td>\n",
       "      <td>0.000000</td>\n",
       "    </tr>\n",
       "    <tr>\n",
       "      <th>75%</th>\n",
       "      <td>1.840112</td>\n",
       "      <td>2.543967</td>\n",
       "      <td>4.566165</td>\n",
       "      <td>2.130615</td>\n",
       "      <td>1.340480</td>\n",
       "      <td>0.380330</td>\n",
       "      <td>0.223695</td>\n",
       "      <td>1.722965</td>\n",
       "      <td>1.409203</td>\n",
       "      <td>1.477045</td>\n",
       "      <td>...</td>\n",
       "      <td>3.761722</td>\n",
       "      <td>2.255134</td>\n",
       "      <td>1.436935</td>\n",
       "      <td>4.064358</td>\n",
       "      <td>3.983939</td>\n",
       "      <td>1.175533</td>\n",
       "      <td>2.279399</td>\n",
       "      <td>2.057540</td>\n",
       "      <td>1.119897</td>\n",
       "      <td>0.000000</td>\n",
       "    </tr>\n",
       "    <tr>\n",
       "      <th>max</th>\n",
       "      <td>15.493002</td>\n",
       "      <td>13.089269</td>\n",
       "      <td>17.090919</td>\n",
       "      <td>13.236381</td>\n",
       "      <td>8.133797</td>\n",
       "      <td>6.975847</td>\n",
       "      <td>8.006091</td>\n",
       "      <td>11.679495</td>\n",
       "      <td>8.137580</td>\n",
       "      <td>8.108472</td>\n",
       "      <td>...</td>\n",
       "      <td>23.633187</td>\n",
       "      <td>16.692486</td>\n",
       "      <td>14.358213</td>\n",
       "      <td>15.291065</td>\n",
       "      <td>19.329576</td>\n",
       "      <td>7.467006</td>\n",
       "      <td>15.289923</td>\n",
       "      <td>7.759877</td>\n",
       "      <td>10.654265</td>\n",
       "      <td>1.000000</td>\n",
       "    </tr>\n",
       "  </tbody>\n",
       "</table>\n",
       "<p>8 rows × 41 columns</p>\n",
       "</div>"
      ],
      "text/plain": [
       "                 V1            V2            V3            V4            V5  \\\n",
       "count  19982.000000  19982.000000  20000.000000  20000.000000  20000.000000   \n",
       "mean      -0.271996      0.440430      2.484699     -0.083152     -0.053752   \n",
       "std        3.441625      3.150784      3.388963      3.431595      2.104801   \n",
       "min      -11.876451    -12.319951    -10.708139    -15.082052     -8.603361   \n",
       "25%       -2.737146     -1.640674      0.206860     -2.347660     -1.535607   \n",
       "50%       -0.747917      0.471536      2.255786     -0.135241     -0.101952   \n",
       "75%        1.840112      2.543967      4.566165      2.130615      1.340480   \n",
       "max       15.493002     13.089269     17.090919     13.236381      8.133797   \n",
       "\n",
       "                 V6            V7            V8            V9           V10  \\\n",
       "count  20000.000000  20000.000000  20000.000000  20000.000000  20000.000000   \n",
       "mean      -0.995443     -0.879325     -0.548195     -0.016808     -0.012998   \n",
       "std        2.040970      1.761626      3.295756      2.160568      2.193201   \n",
       "min      -10.227147     -7.949681    -15.657561     -8.596313     -9.853957   \n",
       "25%       -2.347238     -2.030926     -2.642665     -1.494973     -1.411212   \n",
       "50%       -1.000515     -0.917179     -0.389085     -0.067597      0.100973   \n",
       "75%        0.380330      0.223695      1.722965      1.409203      1.477045   \n",
       "max        6.975847      8.006091     11.679495      8.137580      8.108472   \n",
       "\n",
       "       ...           V32           V33           V34           V35  \\\n",
       "count  ...  20000.000000  20000.000000  20000.000000  20000.000000   \n",
       "mean   ...      0.303799      0.049825     -0.462702      2.229620   \n",
       "std    ...      5.500400      3.575285      3.183841      2.937102   \n",
       "min    ...    -19.876502    -16.898353    -17.985094    -15.349803   \n",
       "25%    ...     -3.420469     -2.242857     -2.136984      0.336191   \n",
       "50%    ...      0.052073     -0.066249     -0.255008      2.098633   \n",
       "75%    ...      3.761722      2.255134      1.436935      4.064358   \n",
       "max    ...     23.633187     16.692486     14.358213     15.291065   \n",
       "\n",
       "                V36           V37           V38           V39           V40  \\\n",
       "count  20000.000000  20000.000000  20000.000000  20000.000000  20000.000000   \n",
       "mean       1.514809      0.011316     -0.344025      0.890653     -0.875630   \n",
       "std        3.800860      1.788165      3.948147      1.753054      3.012155   \n",
       "min      -14.833178     -5.478350    -17.375002     -6.438880    -11.023935   \n",
       "25%       -0.943809     -1.255819     -2.987638     -0.272250     -2.940193   \n",
       "50%        1.566526     -0.128435     -0.316849      0.919261     -0.920806   \n",
       "75%        3.983939      1.175533      2.279399      2.057540      1.119897   \n",
       "max       19.329576      7.467006     15.289923      7.759877     10.654265   \n",
       "\n",
       "             Target  \n",
       "count  20000.000000  \n",
       "mean       0.055500  \n",
       "std        0.228959  \n",
       "min        0.000000  \n",
       "25%        0.000000  \n",
       "50%        0.000000  \n",
       "75%        0.000000  \n",
       "max        1.000000  \n",
       "\n",
       "[8 rows x 41 columns]"
      ]
     },
     "execution_count": 15,
     "metadata": {},
     "output_type": "execute_result"
    }
   ],
   "source": [
    "# let's view the statistical summary of the numerical columns in the data\n",
    "data.describe() ##  Complete the code to print the statitical summary of the train data"
   ]
  },
  {
   "cell_type": "markdown",
   "metadata": {
    "id": "DhPuzWO7hmV8"
   },
   "source": [
    "## Exploratory Data Analysis"
   ]
  },
  {
   "cell_type": "markdown",
   "metadata": {
    "id": "Lv7Bs8aUbp07"
   },
   "source": [
    "### Univariate analysis"
   ]
  },
  {
   "cell_type": "code",
   "execution_count": 16,
   "metadata": {
    "id": "QIP4bI3Zbp07",
    "outputId": "f5372b09-92ef-4fbc-9398-e267e9116aa9"
   },
   "outputs": [],
   "source": [
    "# function to plot a boxplot and a histogram along the same scale.\n",
    "\n",
    "\n",
    "def histogram_boxplot(data, feature, figsize=(12, 7), kde=False, bins=None):\n",
    "    \"\"\"\n",
    "    Boxplot and histogram combined\n",
    "\n",
    "    data: dataframe\n",
    "    feature: dataframe column\n",
    "    figsize: size of figure (default (12,7))\n",
    "    kde: whether to the show density curve (default False)\n",
    "    bins: number of bins for histogram (default None)\n",
    "    \"\"\"\n",
    "    f2, (ax_box2, ax_hist2) = plt.subplots(\n",
    "        nrows=2,  # Number of rows of the subplot grid= 2\n",
    "        sharex=True,  # x-axis will be shared among all subplots\n",
    "        gridspec_kw={\"height_ratios\": (0.25, 0.75)},\n",
    "        figsize=figsize,\n",
    "    )  # creating the 2 subplots\n",
    "    sns.boxplot(\n",
    "        data=data, x=feature, ax=ax_box2, showmeans=True, color=\"violet\"\n",
    "    )  # boxplot will be created and a triangle will indicate the mean value of the column\n",
    "    sns.histplot(\n",
    "        data=data, x=feature, kde=kde, ax=ax_hist2, bins=bins, palette=\"winter\"\n",
    "    ) if bins else sns.histplot(\n",
    "        data=data, x=feature, kde=kde, ax=ax_hist2\n",
    "    )  # For histogram\n",
    "    ax_hist2.axvline(\n",
    "        data[feature].mean(), color=\"green\", linestyle=\"--\"\n",
    "    )  # Add mean to the histogram\n",
    "    ax_hist2.axvline(\n",
    "        data[feature].median(), color=\"black\", linestyle=\"-\"\n",
    "    )  # Add median to the histogram"
   ]
  },
  {
   "cell_type": "markdown",
   "metadata": {
    "id": "zBkL6zw0bp07"
   },
   "source": [
    "#### Plotting histograms and boxplots for all the variables"
   ]
  },
  {
   "cell_type": "code",
   "execution_count": 17,
   "metadata": {
    "id": "p0ip-InCbp07",
    "scrolled": true
   },
   "outputs": [
    {
     "ename": "NameError",
     "evalue": "name 'plt' is not defined",
     "output_type": "error",
     "traceback": [
      "\u001b[1;31m---------------------------------------------------------------------------\u001b[0m",
      "\u001b[1;31mNameError\u001b[0m                                 Traceback (most recent call last)",
      "Input \u001b[1;32mIn [17]\u001b[0m, in \u001b[0;36m<cell line: 1>\u001b[1;34m()\u001b[0m\n\u001b[0;32m      1\u001b[0m \u001b[38;5;28;01mfor\u001b[39;00m feature \u001b[38;5;129;01min\u001b[39;00m df\u001b[38;5;241m.\u001b[39mcolumns:\n\u001b[1;32m----> 2\u001b[0m     \u001b[43mhistogram_boxplot\u001b[49m\u001b[43m(\u001b[49m\u001b[43mdata\u001b[49m\u001b[43m,\u001b[49m\u001b[43m \u001b[49m\u001b[43mfeature\u001b[49m\u001b[43m,\u001b[49m\u001b[43m \u001b[49m\u001b[43mfigsize\u001b[49m\u001b[38;5;241;43m=\u001b[39;49m\u001b[43m(\u001b[49m\u001b[38;5;241;43m12\u001b[39;49m\u001b[43m,\u001b[49m\u001b[43m \u001b[49m\u001b[38;5;241;43m7\u001b[39;49m\u001b[43m)\u001b[49m\u001b[43m,\u001b[49m\u001b[43m \u001b[49m\u001b[43mkde\u001b[49m\u001b[38;5;241;43m=\u001b[39;49m\u001b[38;5;28;43;01mFalse\u001b[39;49;00m\u001b[43m,\u001b[49m\u001b[43m \u001b[49m\u001b[43mbins\u001b[49m\u001b[38;5;241;43m=\u001b[39;49m\u001b[38;5;28;43;01mNone\u001b[39;49;00m\u001b[43m)\u001b[49m\n",
      "Input \u001b[1;32mIn [16]\u001b[0m, in \u001b[0;36mhistogram_boxplot\u001b[1;34m(data, feature, figsize, kde, bins)\u001b[0m\n\u001b[0;32m      4\u001b[0m \u001b[38;5;28;01mdef\u001b[39;00m \u001b[38;5;21mhistogram_boxplot\u001b[39m(data, feature, figsize\u001b[38;5;241m=\u001b[39m(\u001b[38;5;241m12\u001b[39m, \u001b[38;5;241m7\u001b[39m), kde\u001b[38;5;241m=\u001b[39m\u001b[38;5;28;01mFalse\u001b[39;00m, bins\u001b[38;5;241m=\u001b[39m\u001b[38;5;28;01mNone\u001b[39;00m):\n\u001b[0;32m      5\u001b[0m     \u001b[38;5;124;03m\"\"\"\u001b[39;00m\n\u001b[0;32m      6\u001b[0m \u001b[38;5;124;03m    Boxplot and histogram combined\u001b[39;00m\n\u001b[0;32m      7\u001b[0m \n\u001b[1;32m   (...)\u001b[0m\n\u001b[0;32m     12\u001b[0m \u001b[38;5;124;03m    bins: number of bins for histogram (default None)\u001b[39;00m\n\u001b[0;32m     13\u001b[0m \u001b[38;5;124;03m    \"\"\"\u001b[39;00m\n\u001b[1;32m---> 14\u001b[0m     f2, (ax_box2, ax_hist2) \u001b[38;5;241m=\u001b[39m \u001b[43mplt\u001b[49m\u001b[38;5;241m.\u001b[39msubplots(\n\u001b[0;32m     15\u001b[0m         nrows\u001b[38;5;241m=\u001b[39m\u001b[38;5;241m2\u001b[39m,  \u001b[38;5;66;03m# Number of rows of the subplot grid= 2\u001b[39;00m\n\u001b[0;32m     16\u001b[0m         sharex\u001b[38;5;241m=\u001b[39m\u001b[38;5;28;01mTrue\u001b[39;00m,  \u001b[38;5;66;03m# x-axis will be shared among all subplots\u001b[39;00m\n\u001b[0;32m     17\u001b[0m         gridspec_kw\u001b[38;5;241m=\u001b[39m{\u001b[38;5;124m\"\u001b[39m\u001b[38;5;124mheight_ratios\u001b[39m\u001b[38;5;124m\"\u001b[39m: (\u001b[38;5;241m0.25\u001b[39m, \u001b[38;5;241m0.75\u001b[39m)},\n\u001b[0;32m     18\u001b[0m         figsize\u001b[38;5;241m=\u001b[39mfigsize,\n\u001b[0;32m     19\u001b[0m     )  \u001b[38;5;66;03m# creating the 2 subplots\u001b[39;00m\n\u001b[0;32m     20\u001b[0m     sns\u001b[38;5;241m.\u001b[39mboxplot(\n\u001b[0;32m     21\u001b[0m         data\u001b[38;5;241m=\u001b[39mdata, x\u001b[38;5;241m=\u001b[39mfeature, ax\u001b[38;5;241m=\u001b[39max_box2, showmeans\u001b[38;5;241m=\u001b[39m\u001b[38;5;28;01mTrue\u001b[39;00m, color\u001b[38;5;241m=\u001b[39m\u001b[38;5;124m\"\u001b[39m\u001b[38;5;124mviolet\u001b[39m\u001b[38;5;124m\"\u001b[39m\n\u001b[0;32m     22\u001b[0m     )  \u001b[38;5;66;03m# boxplot will be created and a triangle will indicate the mean value of the column\u001b[39;00m\n\u001b[0;32m     23\u001b[0m     sns\u001b[38;5;241m.\u001b[39mhistplot(\n\u001b[0;32m     24\u001b[0m         data\u001b[38;5;241m=\u001b[39mdata, x\u001b[38;5;241m=\u001b[39mfeature, kde\u001b[38;5;241m=\u001b[39mkde, ax\u001b[38;5;241m=\u001b[39max_hist2, bins\u001b[38;5;241m=\u001b[39mbins, palette\u001b[38;5;241m=\u001b[39m\u001b[38;5;124m\"\u001b[39m\u001b[38;5;124mwinter\u001b[39m\u001b[38;5;124m\"\u001b[39m\n\u001b[0;32m     25\u001b[0m     ) \u001b[38;5;28;01mif\u001b[39;00m bins \u001b[38;5;28;01melse\u001b[39;00m sns\u001b[38;5;241m.\u001b[39mhistplot(\n\u001b[0;32m     26\u001b[0m         data\u001b[38;5;241m=\u001b[39mdata, x\u001b[38;5;241m=\u001b[39mfeature, kde\u001b[38;5;241m=\u001b[39mkde, ax\u001b[38;5;241m=\u001b[39max_hist2\n\u001b[0;32m     27\u001b[0m     )  \u001b[38;5;66;03m# For histogram\u001b[39;00m\n",
      "\u001b[1;31mNameError\u001b[0m: name 'plt' is not defined"
     ]
    }
   ],
   "source": [
    "for feature in df.columns:\n",
    "    histogram_boxplot(data, feature, figsize=(12, 7), kde=False, bins=None)"
   ]
  },
  {
   "cell_type": "markdown",
   "metadata": {
    "id": "sfvnghrACelD"
   },
   "source": [
    "### Let's look at the values in target variable"
   ]
  },
  {
   "cell_type": "code",
   "execution_count": 18,
   "metadata": {
    "id": "jchAb6Ikbp08"
   },
   "outputs": [
    {
     "data": {
      "text/plain": [
       "0    18890\n",
       "1     1110\n",
       "Name: Target, dtype: int64"
      ]
     },
     "execution_count": 18,
     "metadata": {},
     "output_type": "execute_result"
    }
   ],
   "source": [
    "data[\"Target\"].value_counts() ##  Complete the code to check the class distribution in target variable for train data"
   ]
  },
  {
   "cell_type": "code",
   "execution_count": 19,
   "metadata": {
    "id": "5rupsM4sbp08"
   },
   "outputs": [
    {
     "data": {
      "text/plain": [
       "0    4718\n",
       "1     282\n",
       "Name: Target, dtype: int64"
      ]
     },
     "execution_count": 19,
     "metadata": {},
     "output_type": "execute_result"
    }
   ],
   "source": [
    "data_test[\"Target\"].value_counts() ##  Complete the code to check the class distribution in target variable for test data"
   ]
  },
  {
   "cell_type": "markdown",
   "metadata": {
    "id": "Bp8vC9MZbp09"
   },
   "source": [
    "## Data Pre-Processing"
   ]
  },
  {
   "cell_type": "code",
   "execution_count": 20,
   "metadata": {
    "id": "IktO9G2Lbp09"
   },
   "outputs": [],
   "source": [
    "# Dividing train data into X and y \n",
    "X = data.drop([\"Target\"], axis=1)\n",
    "y = data[\"Target\"]"
   ]
  },
  {
   "cell_type": "markdown",
   "metadata": {
    "id": "eBXiW4s4kd63"
   },
   "source": [
    "**Since we already have a separate test set, we don't need to divide data into train, valiation and test**\n"
   ]
  },
  {
   "cell_type": "code",
   "execution_count": 21,
   "metadata": {
    "id": "j-8vqBMXbp09"
   },
   "outputs": [],
   "source": [
    "# Splitting train dataset into training and validation set\n",
    "\n",
    "X_train, X_val, y_train, y_val = train_test_split(X,y) ## Complete the code to split the train dataset into train test in the ratio 75:25"
   ]
  },
  {
   "cell_type": "code",
   "execution_count": 22,
   "metadata": {
    "id": "eDmoKnBBFEpG"
   },
   "outputs": [
    {
     "name": "stdout",
     "output_type": "stream",
     "text": [
      "(15000, 40)\n",
      "(5000, 40)\n"
     ]
    }
   ],
   "source": [
    "# Checking the number of rows and columns in the X_train data\n",
    "print(X_train.shape) #  Complete the code to view dimensions of the X_train data\n",
    "\n",
    "# Checking the number of rows and columns in the X_val data\n",
    "print(X_val.shape) ##  Complete the code to view dimensions of the X_val data"
   ]
  },
  {
   "cell_type": "code",
   "execution_count": 23,
   "metadata": {
    "id": "okpvXPeRkTL2"
   },
   "outputs": [],
   "source": [
    "# Dividing test data into X_test and y_test\n",
    "\n",
    "X_test = data_test.drop([\"Target\"], axis=1) ##  Complete the code to drop target variable from test data\n",
    "y_test = data_test[\"Target\"] ##  Complete the code to store target variable in y_test"
   ]
  },
  {
   "cell_type": "code",
   "execution_count": 24,
   "metadata": {
    "id": "lk7gMVMSjR0N"
   },
   "outputs": [
    {
     "data": {
      "text/plain": [
       "(5000, 40)"
      ]
     },
     "execution_count": 24,
     "metadata": {},
     "output_type": "execute_result"
    }
   ],
   "source": [
    "# Checking the number of rows and columns in the X_test data\n",
    "X_test.shape ##  Complete the code to view dimensions of the X_test data"
   ]
  },
  {
   "cell_type": "markdown",
   "metadata": {
    "id": "0J99-7Kubp09"
   },
   "source": [
    "## Missing value imputation\n",
    "\n",
    "\n"
   ]
  },
  {
   "cell_type": "code",
   "execution_count": 25,
   "metadata": {
    "id": "28L1vgAwbp09"
   },
   "outputs": [],
   "source": [
    "# creating an instace of the imputer to be used\n",
    "imputer = SimpleImputer(strategy=\"median\")"
   ]
  },
  {
   "cell_type": "code",
   "execution_count": 26,
   "metadata": {
    "id": "FNfbw4rJbp09"
   },
   "outputs": [],
   "source": [
    "# Fit and transform the train data\n",
    "X_train = pd.DataFrame(imputer.fit_transform(X_train), columns=X_train.columns)\n",
    "\n",
    "# Transform the validation data\n",
    "X_val = pd.DataFrame(imputer.fit_transform(X_val), columns=X_train.columns) ## Complete the code to impute missing values in X_val without data leakage\n",
    "\n",
    "# Transform the test data\n",
    "X_test = pd.DataFrame(imputer.fit_transform(X_test), columns=X_train.columns) ## Complete the code to impute missing values in X_test without data leakage"
   ]
  },
  {
   "cell_type": "code",
   "execution_count": 27,
   "metadata": {
    "id": "3jdLvwTAbp09"
   },
   "outputs": [
    {
     "name": "stdout",
     "output_type": "stream",
     "text": [
      "V1     0\n",
      "V2     0\n",
      "V3     0\n",
      "V4     0\n",
      "V5     0\n",
      "V6     0\n",
      "V7     0\n",
      "V8     0\n",
      "V9     0\n",
      "V10    0\n",
      "V11    0\n",
      "V12    0\n",
      "V13    0\n",
      "V14    0\n",
      "V15    0\n",
      "V16    0\n",
      "V17    0\n",
      "V18    0\n",
      "V19    0\n",
      "V20    0\n",
      "V21    0\n",
      "V22    0\n",
      "V23    0\n",
      "V24    0\n",
      "V25    0\n",
      "V26    0\n",
      "V27    0\n",
      "V28    0\n",
      "V29    0\n",
      "V30    0\n",
      "V31    0\n",
      "V32    0\n",
      "V33    0\n",
      "V34    0\n",
      "V35    0\n",
      "V36    0\n",
      "V37    0\n",
      "V38    0\n",
      "V39    0\n",
      "V40    0\n",
      "dtype: int64\n",
      "------------------------------\n"
     ]
    },
    {
     "data": {
      "text/plain": [
       "V1     0\n",
       "V2     0\n",
       "V3     0\n",
       "V4     0\n",
       "V5     0\n",
       "V6     0\n",
       "V7     0\n",
       "V8     0\n",
       "V9     0\n",
       "V10    0\n",
       "V11    0\n",
       "V12    0\n",
       "V13    0\n",
       "V14    0\n",
       "V15    0\n",
       "V16    0\n",
       "V17    0\n",
       "V18    0\n",
       "V19    0\n",
       "V20    0\n",
       "V21    0\n",
       "V22    0\n",
       "V23    0\n",
       "V24    0\n",
       "V25    0\n",
       "V26    0\n",
       "V27    0\n",
       "V28    0\n",
       "V29    0\n",
       "V30    0\n",
       "V31    0\n",
       "V32    0\n",
       "V33    0\n",
       "V34    0\n",
       "V35    0\n",
       "V36    0\n",
       "V37    0\n",
       "V38    0\n",
       "V39    0\n",
       "V40    0\n",
       "dtype: int64"
      ]
     },
     "execution_count": 27,
     "metadata": {},
     "output_type": "execute_result"
    }
   ],
   "source": [
    "# Checking that no column has missing values in train or test sets\n",
    "print(X_train.isna().sum())\n",
    "print(\"-\" * 30)\n",
    "\n",
    "X_val.isna().sum() ## Complete the code to check the count of missing values in validation set\n",
    "X_test.isna().sum() ## Complete the code to check the count of missing values in test set"
   ]
  },
  {
   "cell_type": "markdown",
   "metadata": {
    "id": "OzOa9FGA6WtG"
   },
   "source": [
    "## Model Building"
   ]
  },
  {
   "cell_type": "markdown",
   "metadata": {
    "id": "YZqmoqz7bp0-"
   },
   "source": [
    "### Model evaluation criterion"
   ]
  },
  {
   "cell_type": "markdown",
   "metadata": {
    "id": "l2ORUgmUjDZC"
   },
   "source": [
    "The nature of predictions made by the classification model will translate as follows:\n",
    "\n",
    "- True positives (TP) are failures correctly predicted by the model.\n",
    "- False negatives (FN) are real failures in a generator where there is no detection by model. \n",
    "- False positives (FP) are failure detections in a generator where there is no failure.\n",
    "\n",
    "**Which metric to optimize?**\n",
    "\n",
    "* We need to choose the metric which will ensure that the maximum number of generator failures are predicted correctly by the model.\n",
    "* We would want Recall to be maximized as greater the Recall, the higher the chances of minimizing false negatives.\n",
    "* We want to minimize false negatives because if a model predicts that a machine will have no failure when there will be a failure, it will increase the maintenance cost."
   ]
  },
  {
   "cell_type": "markdown",
   "metadata": {
    "id": "VUs837UXbp0-"
   },
   "source": [
    "**Let's define a function to output different metrics (including recall) on the train and test set and a function to show confusion matrix so that we do not have to use the same code repetitively while evaluating models.**"
   ]
  },
  {
   "cell_type": "code",
   "execution_count": 28,
   "metadata": {
    "id": "Nt33nwx_bp0-"
   },
   "outputs": [],
   "source": [
    "# defining a function to compute different metrics to check performance of a classification model built using sklearn\n",
    "def model_performance_classification_sklearn(model, predictors, target):\n",
    "    \"\"\"\n",
    "    Function to compute different metrics to check classification model performance\n",
    "\n",
    "    model: classifier\n",
    "    predictors: independent variables\n",
    "    target: dependent variable\n",
    "    \"\"\"\n",
    "\n",
    "    # predicting using the independent variables\n",
    "    pred = model.predict(predictors)\n",
    "\n",
    "    acc = accuracy_score(target, pred)  # to compute Accuracy\n",
    "    recall = recall_score(target, pred)  # to compute Recall\n",
    "    precision = precision_score(target, pred)  # to compute Precision\n",
    "    f1 = f1_score(target, pred)  # to compute F1-score\n",
    "\n",
    "    # creating a dataframe of metrics\n",
    "    df_perf = pd.DataFrame(\n",
    "        {\n",
    "            \"Accuracy\": acc,\n",
    "            \"Recall\": recall,\n",
    "            \"Precision\": precision,\n",
    "            \"F1\": f1\n",
    "        },\n",
    "        index=[0],\n",
    "    )\n",
    "\n",
    "    return df_perf"
   ]
  },
  {
   "cell_type": "markdown",
   "metadata": {
    "id": "-hOzddAXbp0_"
   },
   "source": [
    "### Defining scorer to be used for cross-validation and hyperparameter tuning"
   ]
  },
  {
   "cell_type": "markdown",
   "metadata": {
    "id": "dzLUm-eSi_cJ"
   },
   "source": [
    "- We want to reduce false negatives and will try to maximize \"Recall\".\n",
    "- To maximize Recall, we can use Recall as a **scorer** in cross-validation and hyperparameter tuning."
   ]
  },
  {
   "cell_type": "code",
   "execution_count": 29,
   "metadata": {
    "id": "ayLcyOLsbp0_"
   },
   "outputs": [],
   "source": [
    "# Type of scoring used to compare parameter combinations\n",
    "scorer = metrics.make_scorer(metrics.recall_score)"
   ]
  },
  {
   "cell_type": "markdown",
   "metadata": {
    "id": "iNwROa3X3OV7"
   },
   "source": [
    "**We are now done with pre-processing and evaluation criterion, so let's start building the model.**"
   ]
  },
  {
   "cell_type": "markdown",
   "metadata": {
    "id": "8Je_G2zN3VCF"
   },
   "source": [
    "### Model Building on original data"
   ]
  },
  {
   "cell_type": "code",
   "execution_count": null,
   "metadata": {},
   "outputs": [],
   "source": []
  },
  {
   "cell_type": "code",
   "execution_count": 40,
   "metadata": {
    "id": "-OTOG3o1bp0_",
    "scrolled": true
   },
   "outputs": [
    {
     "name": "stdout",
     "output_type": "stream",
     "text": [
      "\n",
      "Cross-Validation performance on training dataset:\n",
      "\n",
      "Logistic Regression: 0.4934131736526946\n",
      "dtree: 0.7137724550898203\n",
      "Random forest: 0.7317365269461078\n",
      "Bagging: 0.7053892215568862\n",
      "Adaboost: 0.6203592814371257\n",
      "GBM: 0.7125748502994013\n",
      "Xgboost: 0.8083832335329341\n",
      "\n",
      "Validation Performance:\n",
      "\n",
      "Logistic Regression: 0.5054545454545455\n",
      "dtree: 0.7054545454545454\n",
      "Random forest: 0.7090909090909091\n",
      "Bagging: 0.7018181818181818\n",
      "Adaboost: 0.5854545454545454\n",
      "GBM: 0.6836363636363636\n",
      "Xgboost: 0.7818181818181819\n"
     ]
    }
   ],
   "source": [
    "models = []  # Empty list to store all the models\n",
    "\n",
    "# Appending models into the list\n",
    "models.append((\"Logistic Regression\", LogisticRegression(solver=\"newton-cg\", random_state=1)))\n",
    "models.append((\"dtree\", DecisionTreeClassifier(random_state=1)))\n",
    "models.append((\"Random forest\", RandomForestClassifier(random_state=1)))\n",
    "models.append((\"Bagging\", BaggingClassifier(random_state=1)))\n",
    "models.append((\"Adaboost\", AdaBoostClassifier(random_state=1)))\n",
    "models.append((\"GBM\", GradientBoostingClassifier(random_state=1)))\n",
    "models.append((\"Xgboost\", XGBClassifier(random_state=1, eval_metric=\"logloss\")))\n",
    "## Complete the code to append remaining 4 models in the list models\n",
    "\n",
    "results1 = []  # Empty list to store all model's CV scores\n",
    "names = []  # Empty list to store name of the models\n",
    "\n",
    "\n",
    "# loop through all models to get the mean cross validated score\n",
    "print(\"\\n\" \"Cross-Validation performance on training dataset:\" \"\\n\")\n",
    "\n",
    "for name, model in models:\n",
    "    kfold = StratifiedKFold(\n",
    "        n_splits=5, shuffle=True, random_state=1\n",
    "    )  # Setting number of splits equal to 5\n",
    "    cv_result = cross_val_score(\n",
    "        estimator=model, X=X_train, y=y_train, scoring=scorer, cv=kfold\n",
    "    )\n",
    "    results1.append(cv_result)\n",
    "    names.append(name)\n",
    "    print(\"{}: {}\".format(name, cv_result.mean()))\n",
    "\n",
    "print(\"\\n\" \"Validation Performance:\" \"\\n\")\n",
    "\n",
    "for name, model in models:\n",
    "    model.fit(X_train, y_train)\n",
    "    scores = recall_score(y_val, model.predict(X_val))\n",
    "    print(\"{}: {}\".format(name, scores))"
   ]
  },
  {
   "cell_type": "code",
   "execution_count": 41,
   "metadata": {
    "id": "Cm61fR_mbp0_",
    "scrolled": false
   },
   "outputs": [
    {
     "ename": "NameError",
     "evalue": "name 'plt' is not defined",
     "output_type": "error",
     "traceback": [
      "\u001b[1;31m---------------------------------------------------------------------------\u001b[0m",
      "\u001b[1;31mNameError\u001b[0m                                 Traceback (most recent call last)",
      "Input \u001b[1;32mIn [41]\u001b[0m, in \u001b[0;36m<cell line: 2>\u001b[1;34m()\u001b[0m\n\u001b[0;32m      1\u001b[0m \u001b[38;5;66;03m# Plotting boxplots for CV scores of all models defined above\u001b[39;00m\n\u001b[1;32m----> 2\u001b[0m fig \u001b[38;5;241m=\u001b[39m \u001b[43mplt\u001b[49m\u001b[38;5;241m.\u001b[39mfigure(figsize\u001b[38;5;241m=\u001b[39m(\u001b[38;5;241m10\u001b[39m, \u001b[38;5;241m7\u001b[39m))\n\u001b[0;32m      4\u001b[0m fig\u001b[38;5;241m.\u001b[39msuptitle(\u001b[38;5;124m\"\u001b[39m\u001b[38;5;124mAlgorithm Comparison\u001b[39m\u001b[38;5;124m\"\u001b[39m)\n\u001b[0;32m      5\u001b[0m ax \u001b[38;5;241m=\u001b[39m fig\u001b[38;5;241m.\u001b[39madd_subplot(\u001b[38;5;241m111\u001b[39m)\n",
      "\u001b[1;31mNameError\u001b[0m: name 'plt' is not defined"
     ]
    }
   ],
   "source": [
    "# Plotting boxplots for CV scores of all models defined above\n",
    "fig = plt.figure(figsize=(10, 7))\n",
    "\n",
    "fig.suptitle(\"Algorithm Comparison\")\n",
    "ax = fig.add_subplot(111)\n",
    "\n",
    "plt.boxplot(results1)\n",
    "ax.set_xticklabels(names)\n",
    "\n",
    "plt.show()"
   ]
  },
  {
   "cell_type": "markdown",
   "metadata": {
    "id": "C91_6Swtbp1A"
   },
   "source": [
    "### Model Building with oversampled data"
   ]
  },
  {
   "cell_type": "code",
   "execution_count": 48,
   "metadata": {
    "id": "o2dEk01hbp1A"
   },
   "outputs": [
    {
     "name": "stdout",
     "output_type": "stream",
     "text": [
      "Before OverSampling, counts of label '1': 835\n",
      "Before OverSampling, counts of label '0': 14165 \n",
      "\n"
     ]
    },
    {
     "ename": "AttributeError",
     "evalue": "'NoneType' object has no attribute 'split'",
     "output_type": "error",
     "traceback": [
      "\u001b[1;31m---------------------------------------------------------------------------\u001b[0m",
      "\u001b[1;31mAttributeError\u001b[0m                            Traceback (most recent call last)",
      "Input \u001b[1;32mIn [48]\u001b[0m, in \u001b[0;36m<cell line: 6>\u001b[1;34m()\u001b[0m\n\u001b[0;32m      4\u001b[0m \u001b[38;5;66;03m# Synthetic Minority Over Sampling Technique\u001b[39;00m\n\u001b[0;32m      5\u001b[0m sm \u001b[38;5;241m=\u001b[39m SMOTE(sampling_strategy\u001b[38;5;241m=\u001b[39m\u001b[38;5;241m1\u001b[39m, k_neighbors\u001b[38;5;241m=\u001b[39m\u001b[38;5;241m5\u001b[39m, random_state\u001b[38;5;241m=\u001b[39m\u001b[38;5;241m1\u001b[39m)\n\u001b[1;32m----> 6\u001b[0m X_train_over, y_train_over \u001b[38;5;241m=\u001b[39m \u001b[43msm\u001b[49m\u001b[38;5;241;43m.\u001b[39;49m\u001b[43mfit_resample\u001b[49m\u001b[43m(\u001b[49m\u001b[43mX_train\u001b[49m\u001b[43m,\u001b[49m\u001b[43m \u001b[49m\u001b[43my_train\u001b[49m\u001b[43m)\u001b[49m\n\u001b[0;32m      9\u001b[0m \u001b[38;5;28mprint\u001b[39m(\u001b[38;5;124m\"\u001b[39m\u001b[38;5;124mAfter OverSampling, counts of label \u001b[39m\u001b[38;5;124m'\u001b[39m\u001b[38;5;124m1\u001b[39m\u001b[38;5;124m'\u001b[39m\u001b[38;5;124m: \u001b[39m\u001b[38;5;132;01m{}\u001b[39;00m\u001b[38;5;124m\"\u001b[39m\u001b[38;5;241m.\u001b[39mformat(\u001b[38;5;28msum\u001b[39m(y_train_over \u001b[38;5;241m==\u001b[39m \u001b[38;5;241m1\u001b[39m)))\n\u001b[0;32m     10\u001b[0m \u001b[38;5;28mprint\u001b[39m(\u001b[38;5;124m\"\u001b[39m\u001b[38;5;124mAfter OverSampling, counts of label \u001b[39m\u001b[38;5;124m'\u001b[39m\u001b[38;5;124m0\u001b[39m\u001b[38;5;124m'\u001b[39m\u001b[38;5;124m: \u001b[39m\u001b[38;5;132;01m{}\u001b[39;00m\u001b[38;5;124m \u001b[39m\u001b[38;5;130;01m\\n\u001b[39;00m\u001b[38;5;124m\"\u001b[39m\u001b[38;5;241m.\u001b[39mformat(\u001b[38;5;28msum\u001b[39m(y_train_over \u001b[38;5;241m==\u001b[39m \u001b[38;5;241m0\u001b[39m)))\n",
      "File \u001b[1;32m~\\Anaconda3\\lib\\site-packages\\imblearn\\base.py:208\u001b[0m, in \u001b[0;36mBaseSampler.fit_resample\u001b[1;34m(self, X, y)\u001b[0m\n\u001b[0;32m    187\u001b[0m \u001b[38;5;124;03m\"\"\"Resample the dataset.\u001b[39;00m\n\u001b[0;32m    188\u001b[0m \n\u001b[0;32m    189\u001b[0m \u001b[38;5;124;03mParameters\u001b[39;00m\n\u001b[1;32m   (...)\u001b[0m\n\u001b[0;32m    205\u001b[0m \u001b[38;5;124;03m    The corresponding label of `X_resampled`.\u001b[39;00m\n\u001b[0;32m    206\u001b[0m \u001b[38;5;124;03m\"\"\"\u001b[39;00m\n\u001b[0;32m    207\u001b[0m \u001b[38;5;28mself\u001b[39m\u001b[38;5;241m.\u001b[39m_validate_params()\n\u001b[1;32m--> 208\u001b[0m \u001b[38;5;28;01mreturn\u001b[39;00m \u001b[38;5;28;43msuper\u001b[39;49m\u001b[43m(\u001b[49m\u001b[43m)\u001b[49m\u001b[38;5;241;43m.\u001b[39;49m\u001b[43mfit_resample\u001b[49m\u001b[43m(\u001b[49m\u001b[43mX\u001b[49m\u001b[43m,\u001b[49m\u001b[43m \u001b[49m\u001b[43my\u001b[49m\u001b[43m)\u001b[49m\n",
      "File \u001b[1;32m~\\Anaconda3\\lib\\site-packages\\imblearn\\base.py:112\u001b[0m, in \u001b[0;36mSamplerMixin.fit_resample\u001b[1;34m(self, X, y)\u001b[0m\n\u001b[0;32m    106\u001b[0m X, y, binarize_y \u001b[38;5;241m=\u001b[39m \u001b[38;5;28mself\u001b[39m\u001b[38;5;241m.\u001b[39m_check_X_y(X, y)\n\u001b[0;32m    108\u001b[0m \u001b[38;5;28mself\u001b[39m\u001b[38;5;241m.\u001b[39msampling_strategy_ \u001b[38;5;241m=\u001b[39m check_sampling_strategy(\n\u001b[0;32m    109\u001b[0m     \u001b[38;5;28mself\u001b[39m\u001b[38;5;241m.\u001b[39msampling_strategy, y, \u001b[38;5;28mself\u001b[39m\u001b[38;5;241m.\u001b[39m_sampling_type\n\u001b[0;32m    110\u001b[0m )\n\u001b[1;32m--> 112\u001b[0m output \u001b[38;5;241m=\u001b[39m \u001b[38;5;28;43mself\u001b[39;49m\u001b[38;5;241;43m.\u001b[39;49m\u001b[43m_fit_resample\u001b[49m\u001b[43m(\u001b[49m\u001b[43mX\u001b[49m\u001b[43m,\u001b[49m\u001b[43m \u001b[49m\u001b[43my\u001b[49m\u001b[43m)\u001b[49m\n\u001b[0;32m    114\u001b[0m y_ \u001b[38;5;241m=\u001b[39m (\n\u001b[0;32m    115\u001b[0m     label_binarize(output[\u001b[38;5;241m1\u001b[39m], classes\u001b[38;5;241m=\u001b[39mnp\u001b[38;5;241m.\u001b[39munique(y)) \u001b[38;5;28;01mif\u001b[39;00m binarize_y \u001b[38;5;28;01melse\u001b[39;00m output[\u001b[38;5;241m1\u001b[39m]\n\u001b[0;32m    116\u001b[0m )\n\u001b[0;32m    118\u001b[0m X_, y_ \u001b[38;5;241m=\u001b[39m arrays_transformer\u001b[38;5;241m.\u001b[39mtransform(output[\u001b[38;5;241m0\u001b[39m], y_)\n",
      "File \u001b[1;32m~\\Anaconda3\\lib\\site-packages\\imblearn\\over_sampling\\_smote\\base.py:382\u001b[0m, in \u001b[0;36mSMOTE._fit_resample\u001b[1;34m(self, X, y)\u001b[0m\n\u001b[0;32m    379\u001b[0m X_class \u001b[38;5;241m=\u001b[39m _safe_indexing(X, target_class_indices)\n\u001b[0;32m    381\u001b[0m \u001b[38;5;28mself\u001b[39m\u001b[38;5;241m.\u001b[39mnn_k_\u001b[38;5;241m.\u001b[39mfit(X_class)\n\u001b[1;32m--> 382\u001b[0m nns \u001b[38;5;241m=\u001b[39m \u001b[38;5;28;43mself\u001b[39;49m\u001b[38;5;241;43m.\u001b[39;49m\u001b[43mnn_k_\u001b[49m\u001b[38;5;241;43m.\u001b[39;49m\u001b[43mkneighbors\u001b[49m\u001b[43m(\u001b[49m\u001b[43mX_class\u001b[49m\u001b[43m,\u001b[49m\u001b[43m \u001b[49m\u001b[43mreturn_distance\u001b[49m\u001b[38;5;241;43m=\u001b[39;49m\u001b[38;5;28;43;01mFalse\u001b[39;49;00m\u001b[43m)\u001b[49m[:, \u001b[38;5;241m1\u001b[39m:]\n\u001b[0;32m    383\u001b[0m X_new, y_new \u001b[38;5;241m=\u001b[39m \u001b[38;5;28mself\u001b[39m\u001b[38;5;241m.\u001b[39m_make_samples(\n\u001b[0;32m    384\u001b[0m     X_class, y\u001b[38;5;241m.\u001b[39mdtype, class_sample, X_class, nns, n_samples, \u001b[38;5;241m1.0\u001b[39m\n\u001b[0;32m    385\u001b[0m )\n\u001b[0;32m    386\u001b[0m X_resampled\u001b[38;5;241m.\u001b[39mappend(X_new)\n",
      "File \u001b[1;32m~\\Anaconda3\\lib\\site-packages\\sklearn\\neighbors\\_base.py:824\u001b[0m, in \u001b[0;36mKNeighborsMixin.kneighbors\u001b[1;34m(self, X, n_neighbors, return_distance)\u001b[0m\n\u001b[0;32m    817\u001b[0m use_pairwise_distances_reductions \u001b[38;5;241m=\u001b[39m (\n\u001b[0;32m    818\u001b[0m     \u001b[38;5;28mself\u001b[39m\u001b[38;5;241m.\u001b[39m_fit_method \u001b[38;5;241m==\u001b[39m \u001b[38;5;124m\"\u001b[39m\u001b[38;5;124mbrute\u001b[39m\u001b[38;5;124m\"\u001b[39m\n\u001b[0;32m    819\u001b[0m     \u001b[38;5;129;01mand\u001b[39;00m ArgKmin\u001b[38;5;241m.\u001b[39mis_usable_for(\n\u001b[0;32m    820\u001b[0m         X \u001b[38;5;28;01mif\u001b[39;00m X \u001b[38;5;129;01mis\u001b[39;00m \u001b[38;5;129;01mnot\u001b[39;00m \u001b[38;5;28;01mNone\u001b[39;00m \u001b[38;5;28;01melse\u001b[39;00m \u001b[38;5;28mself\u001b[39m\u001b[38;5;241m.\u001b[39m_fit_X, \u001b[38;5;28mself\u001b[39m\u001b[38;5;241m.\u001b[39m_fit_X, \u001b[38;5;28mself\u001b[39m\u001b[38;5;241m.\u001b[39meffective_metric_\n\u001b[0;32m    821\u001b[0m     )\n\u001b[0;32m    822\u001b[0m )\n\u001b[0;32m    823\u001b[0m \u001b[38;5;28;01mif\u001b[39;00m use_pairwise_distances_reductions:\n\u001b[1;32m--> 824\u001b[0m     results \u001b[38;5;241m=\u001b[39m \u001b[43mArgKmin\u001b[49m\u001b[38;5;241;43m.\u001b[39;49m\u001b[43mcompute\u001b[49m\u001b[43m(\u001b[49m\n\u001b[0;32m    825\u001b[0m \u001b[43m        \u001b[49m\u001b[43mX\u001b[49m\u001b[38;5;241;43m=\u001b[39;49m\u001b[43mX\u001b[49m\u001b[43m,\u001b[49m\n\u001b[0;32m    826\u001b[0m \u001b[43m        \u001b[49m\u001b[43mY\u001b[49m\u001b[38;5;241;43m=\u001b[39;49m\u001b[38;5;28;43mself\u001b[39;49m\u001b[38;5;241;43m.\u001b[39;49m\u001b[43m_fit_X\u001b[49m\u001b[43m,\u001b[49m\n\u001b[0;32m    827\u001b[0m \u001b[43m        \u001b[49m\u001b[43mk\u001b[49m\u001b[38;5;241;43m=\u001b[39;49m\u001b[43mn_neighbors\u001b[49m\u001b[43m,\u001b[49m\n\u001b[0;32m    828\u001b[0m \u001b[43m        \u001b[49m\u001b[43mmetric\u001b[49m\u001b[38;5;241;43m=\u001b[39;49m\u001b[38;5;28;43mself\u001b[39;49m\u001b[38;5;241;43m.\u001b[39;49m\u001b[43meffective_metric_\u001b[49m\u001b[43m,\u001b[49m\n\u001b[0;32m    829\u001b[0m \u001b[43m        \u001b[49m\u001b[43mmetric_kwargs\u001b[49m\u001b[38;5;241;43m=\u001b[39;49m\u001b[38;5;28;43mself\u001b[39;49m\u001b[38;5;241;43m.\u001b[39;49m\u001b[43meffective_metric_params_\u001b[49m\u001b[43m,\u001b[49m\n\u001b[0;32m    830\u001b[0m \u001b[43m        \u001b[49m\u001b[43mstrategy\u001b[49m\u001b[38;5;241;43m=\u001b[39;49m\u001b[38;5;124;43m\"\u001b[39;49m\u001b[38;5;124;43mauto\u001b[39;49m\u001b[38;5;124;43m\"\u001b[39;49m\u001b[43m,\u001b[49m\n\u001b[0;32m    831\u001b[0m \u001b[43m        \u001b[49m\u001b[43mreturn_distance\u001b[49m\u001b[38;5;241;43m=\u001b[39;49m\u001b[43mreturn_distance\u001b[49m\u001b[43m,\u001b[49m\n\u001b[0;32m    832\u001b[0m \u001b[43m    \u001b[49m\u001b[43m)\u001b[49m\n\u001b[0;32m    834\u001b[0m \u001b[38;5;28;01melif\u001b[39;00m (\n\u001b[0;32m    835\u001b[0m     \u001b[38;5;28mself\u001b[39m\u001b[38;5;241m.\u001b[39m_fit_method \u001b[38;5;241m==\u001b[39m \u001b[38;5;124m\"\u001b[39m\u001b[38;5;124mbrute\u001b[39m\u001b[38;5;124m\"\u001b[39m \u001b[38;5;129;01mand\u001b[39;00m \u001b[38;5;28mself\u001b[39m\u001b[38;5;241m.\u001b[39mmetric \u001b[38;5;241m==\u001b[39m \u001b[38;5;124m\"\u001b[39m\u001b[38;5;124mprecomputed\u001b[39m\u001b[38;5;124m\"\u001b[39m \u001b[38;5;129;01mand\u001b[39;00m issparse(X)\n\u001b[0;32m    836\u001b[0m ):\n\u001b[0;32m    837\u001b[0m     results \u001b[38;5;241m=\u001b[39m _kneighbors_from_graph(\n\u001b[0;32m    838\u001b[0m         X, n_neighbors\u001b[38;5;241m=\u001b[39mn_neighbors, return_distance\u001b[38;5;241m=\u001b[39mreturn_distance\n\u001b[0;32m    839\u001b[0m     )\n",
      "File \u001b[1;32m~\\Anaconda3\\lib\\site-packages\\sklearn\\metrics\\_pairwise_distances_reduction\\_dispatcher.py:277\u001b[0m, in \u001b[0;36mArgKmin.compute\u001b[1;34m(cls, X, Y, k, metric, chunk_size, metric_kwargs, strategy, return_distance)\u001b[0m\n\u001b[0;32m    196\u001b[0m \u001b[38;5;124;03m\"\"\"Compute the argkmin reduction.\u001b[39;00m\n\u001b[0;32m    197\u001b[0m \n\u001b[0;32m    198\u001b[0m \u001b[38;5;124;03mParameters\u001b[39;00m\n\u001b[1;32m   (...)\u001b[0m\n\u001b[0;32m    274\u001b[0m \u001b[38;5;124;03mreturns.\u001b[39;00m\n\u001b[0;32m    275\u001b[0m \u001b[38;5;124;03m\"\"\"\u001b[39;00m\n\u001b[0;32m    276\u001b[0m \u001b[38;5;28;01mif\u001b[39;00m X\u001b[38;5;241m.\u001b[39mdtype \u001b[38;5;241m==\u001b[39m Y\u001b[38;5;241m.\u001b[39mdtype \u001b[38;5;241m==\u001b[39m np\u001b[38;5;241m.\u001b[39mfloat64:\n\u001b[1;32m--> 277\u001b[0m     \u001b[38;5;28;01mreturn\u001b[39;00m \u001b[43mArgKmin64\u001b[49m\u001b[38;5;241;43m.\u001b[39;49m\u001b[43mcompute\u001b[49m\u001b[43m(\u001b[49m\n\u001b[0;32m    278\u001b[0m \u001b[43m        \u001b[49m\u001b[43mX\u001b[49m\u001b[38;5;241;43m=\u001b[39;49m\u001b[43mX\u001b[49m\u001b[43m,\u001b[49m\n\u001b[0;32m    279\u001b[0m \u001b[43m        \u001b[49m\u001b[43mY\u001b[49m\u001b[38;5;241;43m=\u001b[39;49m\u001b[43mY\u001b[49m\u001b[43m,\u001b[49m\n\u001b[0;32m    280\u001b[0m \u001b[43m        \u001b[49m\u001b[43mk\u001b[49m\u001b[38;5;241;43m=\u001b[39;49m\u001b[43mk\u001b[49m\u001b[43m,\u001b[49m\n\u001b[0;32m    281\u001b[0m \u001b[43m        \u001b[49m\u001b[43mmetric\u001b[49m\u001b[38;5;241;43m=\u001b[39;49m\u001b[43mmetric\u001b[49m\u001b[43m,\u001b[49m\n\u001b[0;32m    282\u001b[0m \u001b[43m        \u001b[49m\u001b[43mchunk_size\u001b[49m\u001b[38;5;241;43m=\u001b[39;49m\u001b[43mchunk_size\u001b[49m\u001b[43m,\u001b[49m\n\u001b[0;32m    283\u001b[0m \u001b[43m        \u001b[49m\u001b[43mmetric_kwargs\u001b[49m\u001b[38;5;241;43m=\u001b[39;49m\u001b[43mmetric_kwargs\u001b[49m\u001b[43m,\u001b[49m\n\u001b[0;32m    284\u001b[0m \u001b[43m        \u001b[49m\u001b[43mstrategy\u001b[49m\u001b[38;5;241;43m=\u001b[39;49m\u001b[43mstrategy\u001b[49m\u001b[43m,\u001b[49m\n\u001b[0;32m    285\u001b[0m \u001b[43m        \u001b[49m\u001b[43mreturn_distance\u001b[49m\u001b[38;5;241;43m=\u001b[39;49m\u001b[43mreturn_distance\u001b[49m\u001b[43m,\u001b[49m\n\u001b[0;32m    286\u001b[0m \u001b[43m    \u001b[49m\u001b[43m)\u001b[49m\n\u001b[0;32m    288\u001b[0m \u001b[38;5;28;01mif\u001b[39;00m X\u001b[38;5;241m.\u001b[39mdtype \u001b[38;5;241m==\u001b[39m Y\u001b[38;5;241m.\u001b[39mdtype \u001b[38;5;241m==\u001b[39m np\u001b[38;5;241m.\u001b[39mfloat32:\n\u001b[0;32m    289\u001b[0m     \u001b[38;5;28;01mreturn\u001b[39;00m ArgKmin32\u001b[38;5;241m.\u001b[39mcompute(\n\u001b[0;32m    290\u001b[0m         X\u001b[38;5;241m=\u001b[39mX,\n\u001b[0;32m    291\u001b[0m         Y\u001b[38;5;241m=\u001b[39mY,\n\u001b[1;32m   (...)\u001b[0m\n\u001b[0;32m    297\u001b[0m         return_distance\u001b[38;5;241m=\u001b[39mreturn_distance,\n\u001b[0;32m    298\u001b[0m     )\n",
      "File \u001b[1;32msklearn\\metrics\\_pairwise_distances_reduction\\_argkmin.pyx:95\u001b[0m, in \u001b[0;36msklearn.metrics._pairwise_distances_reduction._argkmin.ArgKmin64.compute\u001b[1;34m()\u001b[0m\n",
      "File \u001b[1;32m~\\Anaconda3\\lib\\site-packages\\sklearn\\utils\\fixes.py:139\u001b[0m, in \u001b[0;36mthreadpool_limits\u001b[1;34m(limits, user_api)\u001b[0m\n\u001b[0;32m    137\u001b[0m     \u001b[38;5;28;01mreturn\u001b[39;00m controller\u001b[38;5;241m.\u001b[39mlimit(limits\u001b[38;5;241m=\u001b[39mlimits, user_api\u001b[38;5;241m=\u001b[39muser_api)\n\u001b[0;32m    138\u001b[0m \u001b[38;5;28;01melse\u001b[39;00m:\n\u001b[1;32m--> 139\u001b[0m     \u001b[38;5;28;01mreturn\u001b[39;00m \u001b[43mthreadpoolctl\u001b[49m\u001b[38;5;241;43m.\u001b[39;49m\u001b[43mthreadpool_limits\u001b[49m\u001b[43m(\u001b[49m\u001b[43mlimits\u001b[49m\u001b[38;5;241;43m=\u001b[39;49m\u001b[43mlimits\u001b[49m\u001b[43m,\u001b[49m\u001b[43m \u001b[49m\u001b[43muser_api\u001b[49m\u001b[38;5;241;43m=\u001b[39;49m\u001b[43muser_api\u001b[49m\u001b[43m)\u001b[49m\n",
      "File \u001b[1;32m~\\Anaconda3\\lib\\site-packages\\threadpoolctl.py:171\u001b[0m, in \u001b[0;36mthreadpool_limits.__init__\u001b[1;34m(self, limits, user_api)\u001b[0m\n\u001b[0;32m    167\u001b[0m \u001b[38;5;28;01mdef\u001b[39;00m \u001b[38;5;21m__init__\u001b[39m(\u001b[38;5;28mself\u001b[39m, limits\u001b[38;5;241m=\u001b[39m\u001b[38;5;28;01mNone\u001b[39;00m, user_api\u001b[38;5;241m=\u001b[39m\u001b[38;5;28;01mNone\u001b[39;00m):\n\u001b[0;32m    168\u001b[0m     \u001b[38;5;28mself\u001b[39m\u001b[38;5;241m.\u001b[39m_limits, \u001b[38;5;28mself\u001b[39m\u001b[38;5;241m.\u001b[39m_user_api, \u001b[38;5;28mself\u001b[39m\u001b[38;5;241m.\u001b[39m_prefixes \u001b[38;5;241m=\u001b[39m \\\n\u001b[0;32m    169\u001b[0m         \u001b[38;5;28mself\u001b[39m\u001b[38;5;241m.\u001b[39m_check_params(limits, user_api)\n\u001b[1;32m--> 171\u001b[0m     \u001b[38;5;28mself\u001b[39m\u001b[38;5;241m.\u001b[39m_original_info \u001b[38;5;241m=\u001b[39m \u001b[38;5;28;43mself\u001b[39;49m\u001b[38;5;241;43m.\u001b[39;49m\u001b[43m_set_threadpool_limits\u001b[49m\u001b[43m(\u001b[49m\u001b[43m)\u001b[49m\n",
      "File \u001b[1;32m~\\Anaconda3\\lib\\site-packages\\threadpoolctl.py:268\u001b[0m, in \u001b[0;36mthreadpool_limits._set_threadpool_limits\u001b[1;34m(self)\u001b[0m\n\u001b[0;32m    265\u001b[0m \u001b[38;5;28;01mif\u001b[39;00m \u001b[38;5;28mself\u001b[39m\u001b[38;5;241m.\u001b[39m_limits \u001b[38;5;129;01mis\u001b[39;00m \u001b[38;5;28;01mNone\u001b[39;00m:\n\u001b[0;32m    266\u001b[0m     \u001b[38;5;28;01mreturn\u001b[39;00m \u001b[38;5;28;01mNone\u001b[39;00m\n\u001b[1;32m--> 268\u001b[0m modules \u001b[38;5;241m=\u001b[39m \u001b[43m_ThreadpoolInfo\u001b[49m\u001b[43m(\u001b[49m\u001b[43mprefixes\u001b[49m\u001b[38;5;241;43m=\u001b[39;49m\u001b[38;5;28;43mself\u001b[39;49m\u001b[38;5;241;43m.\u001b[39;49m\u001b[43m_prefixes\u001b[49m\u001b[43m,\u001b[49m\n\u001b[0;32m    269\u001b[0m \u001b[43m                          \u001b[49m\u001b[43muser_api\u001b[49m\u001b[38;5;241;43m=\u001b[39;49m\u001b[38;5;28;43mself\u001b[39;49m\u001b[38;5;241;43m.\u001b[39;49m\u001b[43m_user_api\u001b[49m\u001b[43m)\u001b[49m\n\u001b[0;32m    270\u001b[0m \u001b[38;5;28;01mfor\u001b[39;00m module \u001b[38;5;129;01min\u001b[39;00m modules:\n\u001b[0;32m    271\u001b[0m     \u001b[38;5;66;03m# self._limits is a dict {key: num_threads} where key is either\u001b[39;00m\n\u001b[0;32m    272\u001b[0m     \u001b[38;5;66;03m# a prefix or a user_api. If a module matches both, the limit\u001b[39;00m\n\u001b[0;32m    273\u001b[0m     \u001b[38;5;66;03m# corresponding to the prefix is chosed.\u001b[39;00m\n\u001b[0;32m    274\u001b[0m     \u001b[38;5;28;01mif\u001b[39;00m module\u001b[38;5;241m.\u001b[39mprefix \u001b[38;5;129;01min\u001b[39;00m \u001b[38;5;28mself\u001b[39m\u001b[38;5;241m.\u001b[39m_limits:\n",
      "File \u001b[1;32m~\\Anaconda3\\lib\\site-packages\\threadpoolctl.py:340\u001b[0m, in \u001b[0;36m_ThreadpoolInfo.__init__\u001b[1;34m(self, user_api, prefixes, modules)\u001b[0m\n\u001b[0;32m    337\u001b[0m     \u001b[38;5;28mself\u001b[39m\u001b[38;5;241m.\u001b[39muser_api \u001b[38;5;241m=\u001b[39m [] \u001b[38;5;28;01mif\u001b[39;00m user_api \u001b[38;5;129;01mis\u001b[39;00m \u001b[38;5;28;01mNone\u001b[39;00m \u001b[38;5;28;01melse\u001b[39;00m user_api\n\u001b[0;32m    339\u001b[0m     \u001b[38;5;28mself\u001b[39m\u001b[38;5;241m.\u001b[39mmodules \u001b[38;5;241m=\u001b[39m []\n\u001b[1;32m--> 340\u001b[0m     \u001b[38;5;28;43mself\u001b[39;49m\u001b[38;5;241;43m.\u001b[39;49m\u001b[43m_load_modules\u001b[49m\u001b[43m(\u001b[49m\u001b[43m)\u001b[49m\n\u001b[0;32m    341\u001b[0m     \u001b[38;5;28mself\u001b[39m\u001b[38;5;241m.\u001b[39m_warn_if_incompatible_openmp()\n\u001b[0;32m    342\u001b[0m \u001b[38;5;28;01melse\u001b[39;00m:\n",
      "File \u001b[1;32m~\\Anaconda3\\lib\\site-packages\\threadpoolctl.py:373\u001b[0m, in \u001b[0;36m_ThreadpoolInfo._load_modules\u001b[1;34m(self)\u001b[0m\n\u001b[0;32m    371\u001b[0m     \u001b[38;5;28mself\u001b[39m\u001b[38;5;241m.\u001b[39m_find_modules_with_dyld()\n\u001b[0;32m    372\u001b[0m \u001b[38;5;28;01melif\u001b[39;00m sys\u001b[38;5;241m.\u001b[39mplatform \u001b[38;5;241m==\u001b[39m \u001b[38;5;124m\"\u001b[39m\u001b[38;5;124mwin32\u001b[39m\u001b[38;5;124m\"\u001b[39m:\n\u001b[1;32m--> 373\u001b[0m     \u001b[38;5;28;43mself\u001b[39;49m\u001b[38;5;241;43m.\u001b[39;49m\u001b[43m_find_modules_with_enum_process_module_ex\u001b[49m\u001b[43m(\u001b[49m\u001b[43m)\u001b[49m\n\u001b[0;32m    374\u001b[0m \u001b[38;5;28;01melse\u001b[39;00m:\n\u001b[0;32m    375\u001b[0m     \u001b[38;5;28mself\u001b[39m\u001b[38;5;241m.\u001b[39m_find_modules_with_dl_iterate_phdr()\n",
      "File \u001b[1;32m~\\Anaconda3\\lib\\site-packages\\threadpoolctl.py:485\u001b[0m, in \u001b[0;36m_ThreadpoolInfo._find_modules_with_enum_process_module_ex\u001b[1;34m(self)\u001b[0m\n\u001b[0;32m    482\u001b[0m         filepath \u001b[38;5;241m=\u001b[39m buf\u001b[38;5;241m.\u001b[39mvalue\n\u001b[0;32m    484\u001b[0m         \u001b[38;5;66;03m# Store the module if it is supported and selected\u001b[39;00m\n\u001b[1;32m--> 485\u001b[0m         \u001b[38;5;28;43mself\u001b[39;49m\u001b[38;5;241;43m.\u001b[39;49m\u001b[43m_make_module_from_path\u001b[49m\u001b[43m(\u001b[49m\u001b[43mfilepath\u001b[49m\u001b[43m)\u001b[49m\n\u001b[0;32m    486\u001b[0m \u001b[38;5;28;01mfinally\u001b[39;00m:\n\u001b[0;32m    487\u001b[0m     kernel_32\u001b[38;5;241m.\u001b[39mCloseHandle(h_process)\n",
      "File \u001b[1;32m~\\Anaconda3\\lib\\site-packages\\threadpoolctl.py:515\u001b[0m, in \u001b[0;36m_ThreadpoolInfo._make_module_from_path\u001b[1;34m(self, filepath)\u001b[0m\n\u001b[0;32m    513\u001b[0m \u001b[38;5;28;01mif\u001b[39;00m prefix \u001b[38;5;129;01min\u001b[39;00m \u001b[38;5;28mself\u001b[39m\u001b[38;5;241m.\u001b[39mprefixes \u001b[38;5;129;01mor\u001b[39;00m user_api \u001b[38;5;129;01min\u001b[39;00m \u001b[38;5;28mself\u001b[39m\u001b[38;5;241m.\u001b[39muser_api:\n\u001b[0;32m    514\u001b[0m     module_class \u001b[38;5;241m=\u001b[39m \u001b[38;5;28mglobals\u001b[39m()[module_class]\n\u001b[1;32m--> 515\u001b[0m     module \u001b[38;5;241m=\u001b[39m \u001b[43mmodule_class\u001b[49m\u001b[43m(\u001b[49m\u001b[43mfilepath\u001b[49m\u001b[43m,\u001b[49m\u001b[43m \u001b[49m\u001b[43mprefix\u001b[49m\u001b[43m,\u001b[49m\u001b[43m \u001b[49m\u001b[43muser_api\u001b[49m\u001b[43m,\u001b[49m\u001b[43m \u001b[49m\u001b[43minternal_api\u001b[49m\u001b[43m)\u001b[49m\n\u001b[0;32m    516\u001b[0m     \u001b[38;5;28mself\u001b[39m\u001b[38;5;241m.\u001b[39mmodules\u001b[38;5;241m.\u001b[39mappend(module)\n",
      "File \u001b[1;32m~\\Anaconda3\\lib\\site-packages\\threadpoolctl.py:606\u001b[0m, in \u001b[0;36m_Module.__init__\u001b[1;34m(self, filepath, prefix, user_api, internal_api)\u001b[0m\n\u001b[0;32m    604\u001b[0m \u001b[38;5;28mself\u001b[39m\u001b[38;5;241m.\u001b[39minternal_api \u001b[38;5;241m=\u001b[39m internal_api\n\u001b[0;32m    605\u001b[0m \u001b[38;5;28mself\u001b[39m\u001b[38;5;241m.\u001b[39m_dynlib \u001b[38;5;241m=\u001b[39m ctypes\u001b[38;5;241m.\u001b[39mCDLL(filepath, mode\u001b[38;5;241m=\u001b[39m_RTLD_NOLOAD)\n\u001b[1;32m--> 606\u001b[0m \u001b[38;5;28mself\u001b[39m\u001b[38;5;241m.\u001b[39mversion \u001b[38;5;241m=\u001b[39m \u001b[38;5;28;43mself\u001b[39;49m\u001b[38;5;241;43m.\u001b[39;49m\u001b[43mget_version\u001b[49m\u001b[43m(\u001b[49m\u001b[43m)\u001b[49m\n\u001b[0;32m    607\u001b[0m \u001b[38;5;28mself\u001b[39m\u001b[38;5;241m.\u001b[39mnum_threads \u001b[38;5;241m=\u001b[39m \u001b[38;5;28mself\u001b[39m\u001b[38;5;241m.\u001b[39mget_num_threads()\n\u001b[0;32m    608\u001b[0m \u001b[38;5;28mself\u001b[39m\u001b[38;5;241m.\u001b[39m_get_extra_info()\n",
      "File \u001b[1;32m~\\Anaconda3\\lib\\site-packages\\threadpoolctl.py:646\u001b[0m, in \u001b[0;36m_OpenBLASModule.get_version\u001b[1;34m(self)\u001b[0m\n\u001b[0;32m    643\u001b[0m get_config \u001b[38;5;241m=\u001b[39m \u001b[38;5;28mgetattr\u001b[39m(\u001b[38;5;28mself\u001b[39m\u001b[38;5;241m.\u001b[39m_dynlib, \u001b[38;5;124m\"\u001b[39m\u001b[38;5;124mopenblas_get_config\u001b[39m\u001b[38;5;124m\"\u001b[39m,\n\u001b[0;32m    644\u001b[0m                      \u001b[38;5;28;01mlambda\u001b[39;00m: \u001b[38;5;28;01mNone\u001b[39;00m)\n\u001b[0;32m    645\u001b[0m get_config\u001b[38;5;241m.\u001b[39mrestype \u001b[38;5;241m=\u001b[39m ctypes\u001b[38;5;241m.\u001b[39mc_char_p\n\u001b[1;32m--> 646\u001b[0m config \u001b[38;5;241m=\u001b[39m \u001b[43mget_config\u001b[49m\u001b[43m(\u001b[49m\u001b[43m)\u001b[49m\u001b[38;5;241;43m.\u001b[39;49m\u001b[43msplit\u001b[49m()\n\u001b[0;32m    647\u001b[0m \u001b[38;5;28;01mif\u001b[39;00m config[\u001b[38;5;241m0\u001b[39m] \u001b[38;5;241m==\u001b[39m \u001b[38;5;124mb\u001b[39m\u001b[38;5;124m\"\u001b[39m\u001b[38;5;124mOpenBLAS\u001b[39m\u001b[38;5;124m\"\u001b[39m:\n\u001b[0;32m    648\u001b[0m     \u001b[38;5;28;01mreturn\u001b[39;00m config[\u001b[38;5;241m1\u001b[39m]\u001b[38;5;241m.\u001b[39mdecode(\u001b[38;5;124m\"\u001b[39m\u001b[38;5;124mutf-8\u001b[39m\u001b[38;5;124m\"\u001b[39m)\n",
      "\u001b[1;31mAttributeError\u001b[0m: 'NoneType' object has no attribute 'split'"
     ]
    }
   ],
   "source": [
    "print(\"Before OverSampling, counts of label '1': {}\".format(sum(y_train == 1)))\n",
    "print(\"Before OverSampling, counts of label '0': {} \\n\".format(sum(y_train == 0)))\n",
    "\n",
    "# Synthetic Minority Over Sampling Technique\n",
    "sm = SMOTE(sampling_strategy=1, k_neighbors=5, random_state=1)\n",
    "X_train_over, y_train_over = sm.fit_resample(X_train, y_train)\n",
    "\n",
    "\n",
    "print(\"After OverSampling, counts of label '1': {}\".format(sum(y_train_over == 1)))\n",
    "print(\"After OverSampling, counts of label '0': {} \\n\".format(sum(y_train_over == 0)))\n",
    "\n",
    "\n",
    "print(\"After OverSampling, the shape of train_X: {}\".format(X_train_over.shape))\n",
    "print(\"After OverSampling, the shape of train_y: {} \\n\".format(y_train_over.shape))"
   ]
  },
  {
   "cell_type": "code",
   "execution_count": null,
   "metadata": {
    "id": "VMdOjn_uICGt"
   },
   "outputs": [],
   "source": [
    "models = []  # Empty list to store all the models\n",
    "\n",
    "# Appending models into the list\n",
    "models.append((\"Logistic Regression\", LogisticRegression(solver=\"newton-cg\", random_state=1)))\n",
    "models.append((\"dtree\", DecisionTreeClassifier(random_state=1)))\n",
    "models.append((\"Random forest\", RandomForestClassifier(random_state=1)))\n",
    "models.append((\"Bagging\", BaggingClassifier(random_state=1)))\n",
    "models.append((\"Adaboost\", AdaBoostClassifier(random_state=1)))\n",
    "models.append((\"GBM\", GradientBoostingClassifier(random_state=1)))\n",
    "models.append((\"Xgboost\", XGBClassifier(random_state=1, eval_metric=\"logloss\")))\n",
    "## Complete the code to append remaining 4 models in the list models\n",
    "\n",
    "results1 = []  # Empty list to store all model's CV scores\n",
    "names = []  # Empty list to store name of the models\n",
    "\n",
    "\n",
    "# loop through all models to get the mean cross validated score\n",
    "print(\"\\n\" \"Cross-Validation performance on training dataset:\" \"\\n\")\n",
    "\n",
    "for name, model in models:\n",
    "    kfold = StratifiedKFold(\n",
    "        n_splits=5, shuffle=True, random_state=1\n",
    "    )  # Setting number of splits equal to 5\n",
    "    cv_result = cross_val_score(\n",
    "        estimator=model, X=X_train, y=y_train, scoring=scorer, cv=kfold\n",
    "    )  ## Complete the code to build models on oversampled data\n",
    "    results1.append(cv_result)\n",
    "    names.append(name)\n",
    "    print(\"{}: {}\".format(name, cv_result.mean()))\n",
    "\n",
    "print(\"\\n\" \"Validation Performance:\" \"\\n\")\n",
    "\n",
    "for name, model in models:\n",
    "    model.fit(X_train, y_train)## Complete the code to build models on oversampled data \n",
    "    scores = recall_score(y_val, model.predict(X_val))\n",
    "    print(\"{}: {}\".format(name, scores))"
   ]
  },
  {
   "cell_type": "code",
   "execution_count": null,
   "metadata": {
    "id": "kwUcBORjbp1A",
    "scrolled": false
   },
   "outputs": [],
   "source": [
    "# Plotting boxplots for CV scores of all models defined above\n",
    "fig = plt.figure(figsize=(10, 4))\n",
    "\n",
    "fig.suptitle(\"Algorithm Comparison\")\n",
    "ax = fig.add_subplot(111)\n",
    "\n",
    "plt.boxplot(results)\n",
    "ax.set_xticklabels(names)\n",
    "\n",
    "plt.show() \n",
    "## Write the code to create boxplot to check model performance on oversampled data"
   ]
  },
  {
   "cell_type": "markdown",
   "metadata": {
    "id": "fYLfDmHvbp1B"
   },
   "source": [
    "### Model Building with undersampled data"
   ]
  },
  {
   "cell_type": "code",
   "execution_count": null,
   "metadata": {
    "id": "PHM-5g8Qbp1B"
   },
   "outputs": [],
   "source": [
    "rus = RandomUnderSampler(random_state=1, sampling_strategy=1)\n",
    "X_train_un, y_train_un = rus.fit_resample(X_train, y_train)\n",
    "\n",
    "\n",
    "print(\"Before UnderSampling, counts of label '1': {}\".format(sum(y_train == 1)))\n",
    "print(\"Before UnderSampling, counts of label '0': {} \\n\".format(sum(y_train == 0)))\n",
    "\n",
    "\n",
    "print(\"After UnderSampling, counts of label '1': {}\".format(sum(y_train_un == 1)))\n",
    "print(\"After UnderSampling, counts of label '0': {} \\n\".format(sum(y_train_un == 0)))\n",
    "\n",
    "\n",
    "print(\"After UnderSampling, the shape of train_X: {}\".format(X_train_un.shape))\n",
    "print(\"After UnderSampling, the shape of train_y: {} \\n\".format(y_train_un.shape))"
   ]
  },
  {
   "cell_type": "code",
   "execution_count": null,
   "metadata": {
    "id": "jTcxf6VwIp4o"
   },
   "outputs": [],
   "source": [
    "models = []  # Empty list to store all the models\n",
    "\n",
    "# Appending models into the list\n",
    "models.append((\"Logistic Regression\", LogisticRegression(solver=\"newton-cg\", random_state=1)))\n",
    "models.append((\"dtree\", DecisionTreeClassifier(random_state=1)))\n",
    "models.append((\"Random forest\", RandomForestClassifier(random_state=1)))\n",
    "models.append((\"Bagging\", BaggingClassifier(random_state=1)))\n",
    "models.append((\"Adaboost\", AdaBoostClassifier(random_state=1)))\n",
    "models.append((\"GBM\", GradientBoostingClassifier(random_state=1)))\n",
    "models.append((\"Xgboost\", XGBClassifier(random_state=1, eval_metric=\"logloss\")))\n",
    "## Complete the code to append remaining 4 models in the list models\n",
    "\n",
    "results1 = []  # Empty list to store all model's CV scores\n",
    "names = []  # Empty list to store name of the models\n",
    "\n",
    "\n",
    "# loop through all models to get the mean cross validated score\n",
    "print(\"\\n\" \"Cross-Validation performance on training dataset:\" \"\\n\")\n",
    "\n",
    "for name, model in models:\n",
    "    kfold = StratifiedKFold(\n",
    "        n_splits=5, shuffle=True, random_state=1\n",
    "    )  # Setting number of splits equal to 5\n",
    "    cv_result = cross_val_score(\n",
    "        estimator=model, X=X_train_un, y=y_train_un, scoring=scorer, cv=kfold\n",
    "    )  ## Complete the code to build models on undersampled data\n",
    "    results1.append(cv_result)\n",
    "    names.append(name)\n",
    "    print(\"{}: {}\".format(name, cv_result.mean()))\n",
    "\n",
    "print(\"\\n\" \"Validation Performance:\" \"\\n\")\n",
    "\n",
    "for name, model in models:\n",
    "    model.fit(X_train_un, y_train_un)## Complete the code to build models on undersampled data \n",
    "    scores = recall_score(y_val, model.predict(X_val))\n",
    "    print(\"{}: {}\".format(name, scores))"
   ]
  },
  {
   "cell_type": "code",
   "execution_count": null,
   "metadata": {
    "id": "8HcDqaD2bp1B",
    "scrolled": false
   },
   "outputs": [],
   "source": [
    "# Plotting boxplots for CV scores of all models defined above\n",
    "fig = plt.figure(figsize=(10, 4))\n",
    "\n",
    "fig.suptitle(\"Algorithm Comparison\")\n",
    "ax = fig.add_subplot(111)\n",
    "\n",
    "plt.boxplot(results1)\n",
    "ax.set_xticklabels(names)\n",
    "\n",
    "plt.show()\n",
    "## Write the code to create boxplot to check model performance on undersampled data"
   ]
  },
  {
   "cell_type": "markdown",
   "metadata": {
    "id": "ERm8IqLo34q8"
   },
   "source": [
    "**After looking at performance of all the models, let's decide which models can further improve with hyperparameter tuning.**\n",
    "\n",
    "**Note**: You can choose to tune some other model if XGBoost gives error."
   ]
  },
  {
   "cell_type": "markdown",
   "metadata": {
    "id": "zLZlKa99bp1C"
   },
   "source": [
    "## Hyperparameter Tuning"
   ]
  },
  {
   "cell_type": "markdown",
   "metadata": {
    "id": "tFEScXRsl9NM"
   },
   "source": [
    "### **Note**\n",
    "1. Sample parameter grid has been provided to do necessary hyperparameter tuning. One can extend/reduce the parameter grid based on execution time and system configuration to try to improve the model performance further wherever needed.      \n",
    "2. The models chosen in this notebook are based on test runs. One can update the best models as obtained upon code execution and tune them for best performance.\n",
    "\n"
   ]
  },
  {
   "cell_type": "markdown",
   "metadata": {
    "id": "2FtmPS7Ubp1D"
   },
   "source": [
    "### Tuning AdaBoost using oversampled data"
   ]
  },
  {
   "cell_type": "code",
   "execution_count": null,
   "metadata": {
    "id": "IPSlOlvkbp1D"
   },
   "outputs": [],
   "source": [
    "%%time \n",
    "\n",
    "# defining model\n",
    "Model = AdaBoostClassifier(random_state=1)\n",
    "\n",
    "# Parameter grid to pass in RandomSearchCV\n",
    "param_grid = {\n",
    "    \"n_estimators\": [100, 150, 200],\n",
    "    \"learning_rate\": [0.2, 0.05],\n",
    "    \"base_estimator\": [DecisionTreeClassifier(max_depth=1, random_state=1), DecisionTreeClassifier(max_depth=2, random_state=1), DecisionTreeClassifier(max_depth=3, random_state=1),\n",
    "    ]\n",
    "}\n",
    "\n",
    "\n",
    "#Calling RandomizedSearchCV\n",
    "randomized_cv = RandomizedSearchCV(estimator=Model, param_distributions=param_grid, n_iter=50, n_jobs = -1, scoring=scorer, cv=5, random_state=1)\n",
    "\n",
    "#Fitting parameters in RandomizedSearchCV\n",
    "randomized_cv.fit(X_train_over,y_train_over) ## Complete the code to fit the model on over sampled data\n",
    "\n",
    "print(\"Best parameters are {} with CV score={}:\" .format(randomized_cv.best_params_,randomized_cv.best_score_))"
   ]
  },
  {
   "cell_type": "code",
   "execution_count": null,
   "metadata": {
    "id": "UTQNwsr5bp1D"
   },
   "outputs": [],
   "source": [
    "# Creating new pipeline with best parameters\n",
    "tuned_ada = AdaBoostClassifier(\n",
    "    n_estimators= 250, learning_rate= _______, base_estimator= DecisionTreeClassifier(max_depth=_______, random_state=1)\n",
    ") ## Complete the code with the best parameters obtained from tuning\n",
    "\n",
    "tuned_ada.'_______' ## Complete the code to fit the model on oversampled data"
   ]
  },
  {
   "cell_type": "code",
   "execution_count": null,
   "metadata": {
    "id": "MKzdHSSbbp1D",
    "scrolled": true
   },
   "outputs": [],
   "source": [
    "ada_train_perf = model_performance_classification_sklearn(tuned_ada, X_train_over, y_train_over)\n",
    "ada_train_perf"
   ]
  },
  {
   "cell_type": "code",
   "execution_count": null,
   "metadata": {
    "id": "10_dV5m4bp1D"
   },
   "outputs": [],
   "source": [
    "ada_val_perf = '_______' ## Complete the code to check the performance on validation set\n",
    "ada_val_perf"
   ]
  },
  {
   "cell_type": "markdown",
   "metadata": {
    "id": "Dqj6dc38bp1E"
   },
   "source": [
    "### Tuning Random forest using undersampled data"
   ]
  },
  {
   "cell_type": "code",
   "execution_count": null,
   "metadata": {
    "id": "9tLNoDYhbp1E"
   },
   "outputs": [],
   "source": [
    "%%time \n",
    "\n",
    "# defining model\n",
    "Model = RandomForestClassifier(random_state=1)\n",
    "\n",
    "# Parameter grid to pass in RandomSearchCV\n",
    "param_grid = {\n",
    "    \"n_estimators\": [200,250,300],\n",
    "    \"min_samples_leaf\": np.arange(1, 4),\n",
    "    \"max_features\": [np.arange(0.3, 0.6, 0.1),'sqrt'],\n",
    "    \"max_samples\": np.arange(0.4, 0.7, 0.1)}\n",
    "\n",
    "\n",
    "#Calling RandomizedSearchCV\n",
    "randomized_cv = RandomizedSearchCV(estimator=Model, param_distributions=param_grid, n_iter=50, n_jobs = -1, scoring=scorer, cv=5, random_state=1)\n",
    "\n",
    "#Fitting parameters in RandomizedSearchCV\n",
    "randomized_cv.fit(X_train, y_train) ## Complete the code to fit the model on under sampled data\n",
    "\n",
    "print(\"Best parameters are {} with CV score={}:\" .format(randomized_cv.best_params_,randomized_cv.best_score_))"
   ]
  },
  {
   "cell_type": "code",
   "execution_count": null,
   "metadata": {
    "id": "5kmoh9KMbp1E"
   },
   "outputs": [],
   "source": [
    "# Creating new pipeline with best parameters\n",
    "tuned_rf2 = RandomForestClassifier(\n",
    "    max_features=\"sqrt\",\n",
    "    random_state=1,\n",
    "    n_estimators=250,\n",
    "    min_samples_leaf=1,\n",
    "    max_samples=0.5000000000000001,\n",
    ")## Complete the code with the best parameters obtained from tuning\n",
    "\n",
    "tuned_rf2.fit(X_train, y_train) ## Complete the code to fit the model on under sampled data"
   ]
  },
  {
   "cell_type": "code",
   "execution_count": null,
   "metadata": {
    "id": "bAAD5mzybp1E"
   },
   "outputs": [],
   "source": [
    "rf2_train_perf = model_performance_classification_sklearn(tuned_rf2, X_train, y_train) ## Complete the code to check the performance on undersampled train set\n",
    "rf2_train_perf"
   ]
  },
  {
   "cell_type": "code",
   "execution_count": null,
   "metadata": {
    "id": "WTtYpzO-bp1E",
    "scrolled": true
   },
   "outputs": [],
   "source": [
    "rf2_val_perf = model_performance_classification_sklearn(tuned_rf2, X_val, y_val) ## Complete the code to check the performance on validation set\n",
    "rf2_val_perf"
   ]
  },
  {
   "cell_type": "markdown",
   "metadata": {
    "id": "XoLT8ewJ5V2d"
   },
   "source": [
    "### Tuning Gradient Boosting using oversampled data"
   ]
  },
  {
   "cell_type": "code",
   "execution_count": null,
   "metadata": {
    "id": "zkDY8_X25Kxe"
   },
   "outputs": [],
   "source": [
    "%%time \n",
    "\n",
    "# defining model\n",
    "Model = GradientBoostingClassifier(random_state=1)\n",
    "\n",
    "#Parameter grid to pass in RandomSearchCV\n",
    "param_grid={\"n_estimators\": np.arange(100,150,25), \"learning_rate\": [0.2, 0.05, 1], \"subsample\":[0.5,0.7], \"max_features\":[0.5,0.7]}\n",
    "\n",
    "#Calling RandomizedSearchCV\n",
    "randomized_cv = RandomizedSearchCV(estimator=Model, param_distributions=param_grid, scoring=scorer, n_iter=50, n_jobs = -1, cv=5, random_state=1)\n",
    "\n",
    "#Fitting parameters in RandomizedSearchCV\n",
    "randomized_cv.fit(X_train_over, y_train_over)\n",
    "\n",
    "print(\"Best parameters are {} with CV score={}:\" .format(randomized_cv.best_params_,randomized_cv.best_score_))"
   ]
  },
  {
   "cell_type": "code",
   "execution_count": null,
   "metadata": {
    "id": "j_61Omhq5KkB"
   },
   "outputs": [],
   "source": [
    "# Creating new pipeline with best parameters\n",
    "tuned_gbm = GradientBoostingClassifier(\n",
    "    max_features=\"sqrt\",\n",
    "    random_state=1,\n",
    "    learning_rate=0.1,\n",
    "    n_estimators=250,\n",
    "    subsample=0.9,\n",
    ")## Complete the code with the best parameters obtained from tuning\n",
    "\n",
    "tuned_gbm.fit(X_train_over, y_train_over)"
   ]
  },
  {
   "cell_type": "code",
   "execution_count": null,
   "metadata": {
    "id": "k8Oxv7PIJTmF"
   },
   "outputs": [],
   "source": [
    "gbm_train_perf = model_performance_classification_sklearn(tuned_gbm, X_train, y_train) ## Complete the code to check the performance on oversampled train set\n",
    "gbm_train_perf"
   ]
  },
  {
   "cell_type": "code",
   "execution_count": null,
   "metadata": {
    "id": "wpcbbrBLJjS5"
   },
   "outputs": [],
   "source": [
    "gbm_val_perf = model_performance_classification_sklearn(tuned_gbm, X_val, y_val) ## Complete the code to check the performance on validation set\n",
    "gbm_val_perf"
   ]
  },
  {
   "cell_type": "markdown",
   "metadata": {
    "id": "VbrQHwrKbp1C"
   },
   "source": [
    "### Tuning XGBoost using oversampled data"
   ]
  },
  {
   "cell_type": "markdown",
   "metadata": {
    "id": "Sp_kVMHxiahW"
   },
   "source": [
    "**Note**: You can choose to skip this section if XGBoost gives error."
   ]
  },
  {
   "cell_type": "code",
   "execution_count": null,
   "metadata": {
    "id": "ec8e6iVzbp1C"
   },
   "outputs": [],
   "source": [
    "%%time \n",
    "\n",
    "# defining model\n",
    "Model = XGBClassifier(random_state=1,eval_metric='logloss')\n",
    "\n",
    "#Parameter grid to pass in RandomSearchCV\n",
    "param_grid={'n_estimators':[150,200,250],'scale_pos_weight':[5,10], 'learning_rate':[0.1,0.2], 'gamma':[0,3,5], 'subsample':[0.8,0.9]}\n",
    "\n",
    "#Calling RandomizedSearchCV\n",
    "randomized_cv = RandomizedSearchCV(estimator=Model, param_distributions=param_grid, n_iter=50, n_jobs = -1, scoring=scorer, cv=5, random_state=1)\n",
    "\n",
    "#Fitting parameters in RandomizedSearchCV\n",
    "randomized_cv.fit(X_train, y_train) ## Complete the code to fit the model on over sampled data\n",
    "\n",
    "print(\"Best parameters are {} with CV score={}:\" .format(randomized_cv.best_params_,randomized_cv.best_score_))"
   ]
  },
  {
   "cell_type": "code",
   "execution_count": null,
   "metadata": {
    "id": "NSio3khJbp1C",
    "scrolled": true
   },
   "outputs": [],
   "source": [
    "xgb2 = XGBClassifier(\n",
    "    random_state=1,\n",
    "    eval_metric=\"logloss\",\n",
    "    subsample=0.9,\n",
    "    scale_pos_weight=10,\n",
    "    n_estimators=250,\n",
    "    learning_rate=0.1,\n",
    "    gamma=3,\n",
    ")## Complete the code with the best parameters obtained from tuning\n",
    "\n",
    "xgb2.fit(X_train, y_train) ## Complete the code to fit the model on over sampled data"
   ]
  },
  {
   "cell_type": "code",
   "execution_count": null,
   "metadata": {
    "id": "hDzHR8Pwbp1D"
   },
   "outputs": [],
   "source": [
    "xgb2_train_perf =  model_performance_classification_sklearn(\n",
    "    xgb2, X_train, y_train) ## Complete the code to check the performance on oversampled train set\n",
    "xgb2_train_perf"
   ]
  },
  {
   "cell_type": "code",
   "execution_count": null,
   "metadata": {
    "id": "jiDRsOrMbp1D",
    "scrolled": false
   },
   "outputs": [],
   "source": [
    "xgb2_val_perf =  model_performance_classification_sklearn(xgb2, X_val, y_val) ## Complete the code to check the performance on validation set\n",
    "xgb2_val_perf"
   ]
  },
  {
   "cell_type": "markdown",
   "metadata": {
    "id": "uJsiURQL4eBn"
   },
   "source": [
    "**We have now tuned all the models, let's compare the performance of all tuned models and see which one is the best.**"
   ]
  },
  {
   "cell_type": "markdown",
   "metadata": {
    "id": "D9JNnpxa4jau"
   },
   "source": [
    "## Model performance comparison and choosing the final model"
   ]
  },
  {
   "cell_type": "code",
   "execution_count": null,
   "metadata": {
    "id": "TF1WfZZHbp1E"
   },
   "outputs": [],
   "source": [
    "# training performance comparison\n",
    "\n",
    "models_train_comp_df = pd.concat(\n",
    "    [\n",
    "        gbm_train_perf.T,\n",
    "        ada_train_perf.T,\n",
    "        rf2_train_perf.T,\n",
    "        xgb2_train_perf.T,\n",
    "    ],\n",
    "    axis=1,\n",
    ")\n",
    "models_train_comp_df.columns = [\n",
    "    \"Gradient Boosting tuned with oversampled data\",\n",
    "    \"AdaBoost classifier tuned with oversampled data\",\n",
    "    \"Random forest tuned with undersampled data\",\n",
    "    \"XGBoost tuned with oversampled data\",\n",
    "]\n",
    "print(\"Training performance comparison:\")\n",
    "models_train_comp_df"
   ]
  },
  {
   "cell_type": "code",
   "execution_count": null,
   "metadata": {
    "id": "0FgTXpsXbp1F"
   },
   "outputs": [],
   "source": [
    "models_val_comp_df = pd.concat(\n",
    "    [\n",
    "        gbm_val_perf.T,\n",
    "        ada_val_perf.T,\n",
    "        rf2_val_perf.T,\n",
    "        xgb2_val_perf.T,\n",
    "    ],\n",
    "    axis=1,\n",
    ")\n",
    "models_train_comp_df.columns = [\n",
    "    \"Gradient Boosting tuned with oversampled data\",\n",
    "    \"AdaBoost classifier tuned with oversampled data\",\n",
    "    \"Random forest tuned with undersampled data\",\n",
    "    \"XGBoost tuned with oversampled data\",\n",
    "]\n",
    "print(\"validation performance comparison:\")\n",
    "models_val_comp_df\n",
    "## Write the code to compare the performance on validation set"
   ]
  },
  {
   "cell_type": "markdown",
   "metadata": {
    "id": "PYS5m_mcbp1F"
   },
   "source": [
    "**Now we have our final model, so let's find out how our final model is performing on unseen test data.**"
   ]
  },
  {
   "cell_type": "code",
   "execution_count": null,
   "metadata": {
    "id": "rqgvz7e7bp1F"
   },
   "outputs": [],
   "source": [
    "# Let's check the performance on test set\n",
    "'_______' ## Write the code to check the performance of best model on test data"
   ]
  },
  {
   "cell_type": "markdown",
   "metadata": {
    "id": "J49s-TEB41JQ"
   },
   "source": [
    "### Feature Importances"
   ]
  },
  {
   "cell_type": "code",
   "execution_count": null,
   "metadata": {
    "id": "7Zk2dFRzbp1F"
   },
   "outputs": [],
   "source": [
    "feature_names = X_train.columns\n",
    "importances =  final_model.feature_importances_ ## Complete the code to check the feature importance of the best model\n",
    "indices = np.argsort(importances)\n",
    "\n",
    "plt.figure(figsize=(12, 12))\n",
    "plt.title(\"Feature Importances\")\n",
    "plt.barh(range(len(indices)), importances[indices], color=\"violet\", align=\"center\")\n",
    "plt.yticks(range(len(indices)), [feature_names[i] for i in indices])\n",
    "plt.xlabel(\"Relative Importance\")\n",
    "plt.show()"
   ]
  },
  {
   "cell_type": "markdown",
   "metadata": {
    "id": "gohwGn0tbp1L"
   },
   "source": [
    "## Let's use Pipelines to build the final model"
   ]
  },
  {
   "cell_type": "markdown",
   "metadata": {
    "id": "euQoHofA5JBx"
   },
   "source": [
    "- Since we have only one datatype in the data, we don't need to use column transformer here"
   ]
  },
  {
   "cell_type": "code",
   "execution_count": null,
   "metadata": {
    "id": "xTB5oErrbp1L"
   },
   "outputs": [],
   "source": [
    "Pipeline_model = Pipeline('_______' ) ## Complete the code to create pipeline for the best model"
   ]
  },
  {
   "cell_type": "code",
   "execution_count": null,
   "metadata": {
    "id": "KVhk_Ga4bp1L"
   },
   "outputs": [],
   "source": [
    "# Separating target variable and other variables\n",
    "X1 = data.drop(columns=\"Target\")\n",
    "Y1 = data[\"Target\"]\n",
    "\n",
    "# Since we already have a separate test set, we don't need to divide data into train and test\n",
    "\n",
    "X_test1 = df_test.('_______') ##  Complete the code to drop target variable from test data\n",
    "y_test1 = df_test['_______'] ##  Complete the code to store target variable in y_test1\n"
   ]
  },
  {
   "cell_type": "code",
   "execution_count": null,
   "metadata": {
    "id": "esCUwy3ibp1L"
   },
   "outputs": [],
   "source": [
    "# We can't oversample/undersample data without doing missing value treatment, so let's first treat the missing values in the train set\n",
    "imputer = SimpleImputer(strategy=\"median\")\n",
    "X1 = imputer.fit_transform(X1)\n",
    "\n",
    "# We don't need to impute missing values in test set as it will be done inside pipeline"
   ]
  },
  {
   "cell_type": "markdown",
   "metadata": {
    "id": "xKYy2r85zBB7"
   },
   "source": [
    "**Note:** Please perform either oversampling or undersampling based on the final model chosen."
   ]
  },
  {
   "cell_type": "markdown",
   "metadata": {
    "id": "ILVQdGr2KNO0"
   },
   "source": [
    "If the best model is built on the oversampled data, uncomment and run the below code to perform oversampling"
   ]
  },
  {
   "cell_type": "code",
   "execution_count": null,
   "metadata": {
    "id": "wRhGqGEqbp1M"
   },
   "outputs": [],
   "source": [
    "# #code for oversampling on the data\n",
    "# # Synthetic Minority Over Sampling Technique\n",
    "# sm = SMOTE(sampling_strategy=1, k_neighbors=5, random_state=1)\n",
    "# X_over1, y_over1 = sm.fit_resample(X1, Y1)"
   ]
  },
  {
   "cell_type": "markdown",
   "metadata": {
    "id": "xFESt-LQKo_5"
   },
   "source": [
    "If the best model is built on the undersampled data, uncomment and run the below code to perform undersampling\n"
   ]
  },
  {
   "cell_type": "code",
   "execution_count": null,
   "metadata": {
    "id": "j1S2b6yUKmAz"
   },
   "outputs": [],
   "source": [
    "# # code for undersampling on the data\n",
    "# # Under Sampling Technique\n",
    "# rus = RandomUnderSampler(random_state=1, sampling_strategy=1)\n",
    "# X_train_un, y_train_un = rus.fit_resample(X_train, y_train)"
   ]
  },
  {
   "cell_type": "code",
   "execution_count": null,
   "metadata": {
    "id": "AWI12Lh5bp1M"
   },
   "outputs": [],
   "source": [
    "Pipeline_model.'_______' ##  Complete the code to fit the Model obtained from above step"
   ]
  },
  {
   "cell_type": "code",
   "execution_count": null,
   "metadata": {
    "id": "AlKakNj7592p"
   },
   "outputs": [],
   "source": [
    "Pipeline_model_test = '_______'  ## Complete the code to check the performance on test set\n",
    "Pipeline_model_test"
   ]
  },
  {
   "cell_type": "markdown",
   "metadata": {
    "id": "gxFmwam_bp1M"
   },
   "source": [
    "# Business Insights and Conclusions\n"
   ]
  },
  {
   "cell_type": "markdown",
   "metadata": {
    "id": "bc5SEIuJnyQm"
   },
   "source": [
    "- Best model and its performance\n",
    "- Important features\n",
    "- Additional points"
   ]
  },
  {
   "cell_type": "markdown",
   "metadata": {
    "id": "MyLBn7uE6LhP"
   },
   "source": [
    "***"
   ]
  }
 ],
 "metadata": {
  "colab": {
   "collapsed_sections": [
    "v_-uuGqH-qTt",
    "xxhpZv9y-qTw",
    "KQi5ygTC-qT1",
    "961px703qhLV",
    "5TcqcxbK-qT3",
    "xNr4bWoM-qT5",
    "Ch_TjRfF-qT5",
    "nUCorhch-qT4",
    "DhPuzWO7hmV8",
    "Lv7Bs8aUbp07",
    "sfvnghrACelD",
    "Bp8vC9MZbp09",
    "0J99-7Kubp09",
    "8Je_G2zN3VCF",
    "C91_6Swtbp1A",
    "fYLfDmHvbp1B",
    "2FtmPS7Ubp1D",
    "Dqj6dc38bp1E",
    "XoLT8ewJ5V2d",
    "D9JNnpxa4jau",
    "gohwGn0tbp1L",
    "gxFmwam_bp1M"
   ],
   "name": "MT_Project_LearnerNotebook_LowCode_MT_002.ipynb",
   "provenance": []
  },
  "kernelspec": {
   "display_name": "Python 3 (ipykernel)",
   "language": "python",
   "name": "python3"
  },
  "language_info": {
   "codemirror_mode": {
    "name": "ipython",
    "version": 3
   },
   "file_extension": ".py",
   "mimetype": "text/x-python",
   "name": "python",
   "nbconvert_exporter": "python",
   "pygments_lexer": "ipython3",
   "version": "3.9.12"
  }
 },
 "nbformat": 4,
 "nbformat_minor": 1
}
