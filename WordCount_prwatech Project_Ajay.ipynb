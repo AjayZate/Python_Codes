{
 "cells": [
  {
   "cell_type": "code",
   "execution_count": 18,
   "metadata": {},
   "outputs": [
    {
     "name": "stdout",
     "output_type": "stream",
     "text": [
      "{1: 18, 2: 118, 3: 89, 4: 194, 5: 76, 6: 112, 7: 121, 8: 73, 9: 77, 10: 73, 11: 45, 12: 22, 13: 7, 14: 14, 16: 2}\n"
     ]
    }
   ],
   "source": [
    "import re\n",
    "\n",
    "'''Loading text file as a string'''\n",
    "\n",
    "with open('C:/Users/Admin/Downloads/wordcountproblem.txt', 'r') as file:\n",
    "    s = file.read().replace('\\n', '')\n",
    "    \n",
    "'''removing the text with brackets'''\n",
    "s1 = re.sub(r\"\\([^()]*\\)\", \"\", s)\n",
    "\n",
    "# removing the unwanted symbols from text\n",
    "s2 = s1.replace('-','').replace('?','').replace('!','').replace('.','').replace('/',' ').replace(',','').replace(\"’\", \"\").replace('“','').replace(\"”\",\"\")\n",
    "s2 = s2.replace(\"  \",\" \")\n",
    "\n",
    "#converting string to list to operate furthur \n",
    "s3 = s2.split(\" \")\n",
    "\n",
    "# counting the words\n",
    "count = 0\n",
    "words_count = {}\n",
    "ch = []\n",
    "for word in s3:\n",
    "    count = len(word)\n",
    "    ch.append(count)\n",
    "\n",
    "word_lens  = set(ch)\n",
    "\n",
    "for i in word_lens:\n",
    "    for j in ch:\n",
    "        if j == i:\n",
    "            count +=1\n",
    "    words_count[i] = count\n",
    "    count = 0\n",
    "print(words_count)   \n"
   ]
  },
  {
   "cell_type": "code",
   "execution_count": null,
   "metadata": {},
   "outputs": [],
   "source": []
  },
  {
   "cell_type": "code",
   "execution_count": null,
   "metadata": {},
   "outputs": [],
   "source": []
  }
 ],
 "metadata": {
  "kernelspec": {
   "display_name": "Python 3",
   "language": "python",
   "name": "python3"
  },
  "language_info": {
   "codemirror_mode": {
    "name": "ipython",
    "version": 3
   },
   "file_extension": ".py",
   "mimetype": "text/x-python",
   "name": "python",
   "nbconvert_exporter": "python",
   "pygments_lexer": "ipython3",
   "version": "3.8.5"
  }
 },
 "nbformat": 4,
 "nbformat_minor": 4
}
